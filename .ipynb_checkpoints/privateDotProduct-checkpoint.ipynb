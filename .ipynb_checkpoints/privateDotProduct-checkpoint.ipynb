{
 "cells": [
  {
   "cell_type": "code",
   "execution_count": 1,
   "metadata": {},
   "outputs": [],
   "source": [
    "import pandas as pd\n",
    "import numpy as np\n",
    "import sympy as sym\n",
    "from sklearn.preprocessing import normalize\n",
    "from itertools import combinations, product\n",
    "import ot\n",
    "import copy\n",
    "import sys\n",
    "sys.path.append('/gpfs/commons/groups/gursoy_lab/aelhussein/personalised_fl/server')\n",
    "import OTCost as ot\n",
    "import dataCreator as dc\n",
    "import importlib\n",
    "importlib.reload(ot)\n",
    "importlib.reload(dc)\n",
    "import matplotlib.pyplot as plt\n",
    "import seaborn as sns"
   ]
  },
  {
   "cell_type": "code",
   "execution_count": 2,
   "metadata": {},
   "outputs": [],
   "source": [
    "def loadData(name, size = 500, indices = False):\n",
    "    path = '/gpfs/commons/groups/gursoy_lab/aelhussein/personalised_fl/'\n",
    "    ##load data\n",
    "    X = pd.read_csv(f'{path}client/Data/{name}.csv', sep = ' ', names = [i for i in range(13)])\n",
    "    ##merge\n",
    "    X = X.sample(frac = 1)\n",
    "    X = X.iloc[:size]\n",
    "    ##get X and label\n",
    "    y = X.iloc[:,-1]\n",
    "    X = X.iloc[:,:-1]\n",
    "    return X,y"
   ]
  },
  {
   "cell_type": "code",
   "execution_count": 3,
   "metadata": {},
   "outputs": [],
   "source": [
    "def prepData(data, index_i, index_j):\n",
    "\n",
    "    ## transpose datasets\n",
    "    X1 = data['1'].T\n",
    "    X2 = data['2'].T\n",
    "\n",
    "    ##select the correct indeices for the labels\n",
    "    X1 = X1[:, index_i]\n",
    "    X2 = X2[:, index_j]\n",
    "    ## normalise vecotrs on l2 norm\n",
    "\n",
    "    X1 = normalize(X1, norm = 'l2', axis = 0)\n",
    "    X2 = normalize(X2, norm = 'l2', axis = 0)\n",
    "    n = X1.shape[0]\n",
    "    ## select large prime\n",
    "    p = sym.nextprime(n)\n",
    "\n",
    "    return X1, X2, n, p\n",
    "\n",
    "def generatorMatrix(k,p):\n",
    "    V = np.vander(np.arange(1,k//2 + 1), p - 1, increasing = True) % p\n",
    "    G = np.array(sym.Matrix(V).rref(pivots = False), dtype = float)\n",
    "    #G = rref(V, tol = 1.0e-12)\n",
    "    remaining_cols = G.shape[1] - (p-1-G.shape[1])\n",
    "    G_ = G[:,:remaining_cols]\n",
    "    \n",
    "    ##Break down matrix G and G^-1 into A,B,C,D\n",
    "    A = G_.T\n",
    "    D = np.hstack((G_[:,k//2:].T, G_[:,:k//2] - 2* G_[:,:k//2]))\n",
    "    ##B1 = I, B2 = -I + A2\n",
    "    B = np.vstack((np.eye(k//2), np.eye(k//2)- 2*np.eye(k//2) + A[k//2:]))\n",
    "    ##C1 = I-A2, C2 = I\n",
    "    C =  np.hstack((np.eye(k//2) - A[k//2:], np.eye(k//2)))\n",
    "    return A, B, C, D\n",
    "\n",
    "def multipartyComp(X, M):\n",
    "    X1, X2 = X\n",
    "    A, B, C, D = M\n",
    "\n",
    "    ##party a\n",
    "    X1_a = np.dot(X1.T, A)\n",
    "    X1_b = np.dot(X1.T, B)\n",
    "\n",
    "    ##party b\n",
    "    X2_a = np.dot(C, X2)\n",
    "    X2_b = np.dot(D, X2)\n",
    "\n",
    "    ##join\n",
    "    V1 = np.dot(X1_a, X2_a)\n",
    "    V2 = np.dot(X1_b, X2_b)\n",
    "\n",
    "    return V1, V2\n",
    "\n",
    "\n",
    "def privateDotproduct(data, index_i, index_j):\n",
    "    X1, X2, n, p = prepData(data, index_i, index_j)\n",
    "    A, B, C, D = generatorMatrix(n, p)\n",
    "    X, M = (X1, X2), (A, B, C, D)\n",
    "    V1, V2 = multipartyComp(X, M)\n",
    "    dot_product = V1 + V2\n",
    "    return 1 - dot_product\n"
   ]
  },
  {
   "cell_type": "markdown",
   "metadata": {},
   "source": [
    "## optimal transport cost"
   ]
  },
  {
   "cell_type": "code",
   "execution_count": 4,
   "metadata": {},
   "outputs": [],
   "source": [
    "def costOpenPrivate(data, label, private):\n",
    "    ## calculate cost\n",
    "    cost = ot.Synthetic_OTCost_label(data, label, private = False)\n",
    "    cost = float(\"{:.3f}\".format(float(cost)))\n",
    "    \n",
    "    ##calculate cost private date\n",
    "    cost_p = ot.Synthetic_OTCost_label(data, label, private = True)\n",
    "    cost_p = float(\"{:.3f}\".format(float(cost)))\n",
    "    return [cost, cost_p]"
   ]
  },
  {
   "cell_type": "code",
   "execution_count": 5,
   "metadata": {},
   "outputs": [],
   "source": [
    "def runComparison(private = True):\n",
    "    fracs = np.arange(0,1.1, 0.1)\n",
    "    results = {}\n",
    "    nfeatures = 12\n",
    "\n",
    "    \n",
    "    for frac in fracs:\n",
    "        ##load data\n",
    "        data, label = dc.non_iid_creator(frac)\n",
    "        ##store results\n",
    "        results[frac] = costOpenPrivate(data, label, private)\n",
    "\n",
    "    noises = [(250e-3, 250e-3), (10e-3, 10e-3), (50e-3, 50e-3)]\n",
    "    switches = [60, 40, 0]\n",
    "    a0s = [np.array([1,1,1,1,1,1,1,1,1,1,-1,-1]).reshape(1,-1) / np.sqrt(nfeatures),\n",
    "           np.array([1,1,1,1,1,1,1,1,1,1,1,1]).reshape(1,-1) / np.sqrt(nfeatures),\n",
    "           np.array([1,1,1,1,1,1,1,1,1,1,1,1]).reshape(1,-1) / np.sqrt(nfeatures)]\n",
    "    a1s = [np.array([-1,-1,-1,-1,-1,-1,-1,-1,-1,1,-1,-1]).reshape(1,-1) / np.sqrt(nfeatures),\n",
    "           np.array([-1,-1,-1,-1,-1,-1,-1,-1,-1,-1,-1,-1]).reshape(1,-1) / np.sqrt(nfeatures),\n",
    "           np.array([-1,-1,-1,-1,-1,-1,-1,-1,-1,-1,-1,-1]).reshape(1,-1) / np.sqrt(nfeatures)]\n",
    "    sims = [60, 80,100]\n",
    "    for noise, switch, a0, a1, sim in zip(noises, switches, a0s, a1s, sims): \n",
    "        data, label = dc.deterministicDatasetCreator(a0, a1, nfeatures, noise, switch = switch, size = 200)\n",
    "        results[sim] = costOpenPrivate(data, label,  private)\n",
    "\n",
    "    df = pd.DataFrame.from_dict(results, orient = 'index', columns = ['open', 'private'])\n",
    "    return df.astype('float')"
   ]
  },
  {
   "cell_type": "code",
   "execution_count": null,
   "metadata": {},
   "outputs": [
    {
     "name": "stdout",
     "output_type": "stream",
     "text": [
      "cost: 0.0237937992\n",
      "cost: 0.0237937992\n",
      "cost: 0.0532834774\n",
      "cost: 0.0532834774\n",
      "cost: 0.0943967601\n",
      "cost: 0.0943967601\n",
      "cost: 0.1338251470\n",
      "cost: 0.1338251470\n",
      "cost: 0.1780615169\n",
      "cost: 0.1780615169\n",
      "cost: 0.2105049428\n",
      "cost: 0.2105049428\n",
      "cost: 0.2769353372\n"
     ]
    }
   ],
   "source": [
    "importlib.reload(ot)\n",
    "df_private = runComparison(private = True)"
   ]
  },
  {
   "cell_type": "code",
   "execution_count": null,
   "metadata": {},
   "outputs": [],
   "source": [
    "save_path = '/gpfs/commons/groups/gursoy_lab/aelhussein/classes/pfl/otcost_fl/results/smpc/'\n",
    "name = 'accuracy_smpc'\n",
    "df_private.to_csv(f'{save_path}{name}.csv')"
   ]
  },
  {
   "cell_type": "code",
   "execution_count": null,
   "metadata": {},
   "outputs": [],
   "source": [
    "fig, ax = plt.subplots()\n",
    "ax.scatter(x = df_private['open'], y = df_private['private'], label = 'private',alpha = 0.5)\n",
    "ax.plot([0,1],[0,1], transform=ax.transAxes, color = 'black', linestyle = '--', alpha = 0.5, label = 'y=x')\n",
    "plt.ylim((-0.01,0.51))\n",
    "plt.xlim(-0.01,0.51)\n",
    "plt.ylabel('SMPC calculated cost', fontsize = 14)\n",
    "plt.xlabel('Plaintext calculated cost', fontsize = 14)\n",
    "plt.xticks(fontsize = 12)\n",
    "plt.yticks(fontsize = 12)\n",
    "plt.savefig(f'{save_path}/{name}.pdf')\n",
    "plt.legend()"
   ]
  }
 ],
 "metadata": {
  "kernelspec": {
   "display_name": "Python 3 (ipykernel)",
   "language": "python",
   "name": "python3"
  },
  "language_info": {
   "codemirror_mode": {
    "name": "ipython",
    "version": 3
   },
   "file_extension": ".py",
   "mimetype": "text/x-python",
   "name": "python",
   "nbconvert_exporter": "python",
   "pygments_lexer": "ipython3",
   "version": "3.10.10"
  }
 },
 "nbformat": 4,
 "nbformat_minor": 2
}
