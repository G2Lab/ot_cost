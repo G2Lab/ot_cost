{
 "cells": [
  {
   "cell_type": "code",
   "execution_count": 1,
   "metadata": {},
   "outputs": [],
   "source": [
    "ROOT_DIR = '/gpfs/commons/groups/gursoy_lab/aelhussein/ot_cost/otcost_fl_rebase'\n",
    "import pandas as pd\n",
    "import sys\n",
    "import numpy as np\n",
    "import pickle\n",
    "import matplotlib.pyplot as plt\n",
    "import seaborn as sns\n",
    "from scipy.stats import bootstrap"
   ]
  },
  {
   "cell_type": "markdown",
   "metadata": {},
   "source": [
    "# LR only"
   ]
  },
  {
   "cell_type": "code",
   "execution_count": 2,
   "metadata": {},
   "outputs": [],
   "source": [
    "def load_results(DATASET, grid):\n",
    "    if grid:\n",
    "        with open(f'{ROOT_DIR}/results/{DATASET}/{DATASET}_hyperparameter_search_personal.pkl', 'rb') as f :\n",
    "            results = pickle.load(f)\n",
    "    else:\n",
    "        with open(f'{ROOT_DIR}/results/{DATASET}/{DATASET}_hyperparameter_search.pkl', 'rb') as f :\n",
    "            results = pickle.load(f)\n",
    "    return results\n",
    "    \n",
    "def bootstrap_ci(data):\n",
    "    estimates = {}\n",
    "    for c in data:\n",
    "        estimates[c]={}\n",
    "        for arch in data[c]:\n",
    "            estimates[c][arch]={}\n",
    "            for optim in data[c][arch]:\n",
    "                estimates[c][arch][optim]={}\n",
    "                for lr in data[c][arch][optim]:\n",
    "                    res = data[c][arch][optim][lr]\n",
    "                    if len(res) == 1:\n",
    "                        res = [res[0] + np.random.normal(0,1e-5) for i in range(10)]\n",
    "                    mean = np.mean(res)\n",
    "                    bs_reps = bootstrap(np.array(res).reshape(1,-1), statistic=np.mean, n_resamples=1000)\n",
    "                    ci = bs_reps.confidence_interval[0:2]\n",
    "                    estimates[c][arch][optim][lr] = np.mean([mean, mean, mean, ci[0], ci[1]])\n",
    "    return estimates\n",
    "\n",
    "def best_parameters(results_estimates):\n",
    "    best_combinations = {}\n",
    "    for cost, architectures in results_estimates.items():\n",
    "        for architecture, optimizers in architectures.items():\n",
    "            best_value = -float('inf')\n",
    "            best_optimizer_lr = \"\"\n",
    "            for optimizer, lrs in optimizers.items():\n",
    "                for lr, value in lrs.items():\n",
    "                    if value > best_value:\n",
    "                        best_value = value\n",
    "                        best_optimizer_lr = f\"{optimizer}: {lr}: {value:.3f}\"\n",
    "            if cost not in best_combinations:\n",
    "                best_combinations[cost] = {}\n",
    "            best_combinations[cost][architecture] = best_optimizer_lr\n",
    "    return best_combinations\n",
    "\n",
    "def process_results(DATASET, grid=False):\n",
    "    results = load_results(DATASET, grid)\n",
    "    results_estimates = bootstrap_ci(results)\n",
    "    best_hyperparams = best_parameters(results_estimates)\n",
    "    return results_estimates, best_hyperparams"
   ]
  },
  {
   "cell_type": "markdown",
   "metadata": {},
   "source": [
    "### Synthetic"
   ]
  },
  {
   "cell_type": "code",
   "execution_count": 18,
   "metadata": {},
   "outputs": [],
   "source": [
    "DATASET = 'Synthetic'\n",
    "results_estimates, best_hyperparams = process_results(DATASET)"
   ]
  },
  {
   "cell_type": "markdown",
   "metadata": {},
   "source": [
    "### Credit"
   ]
  },
  {
   "cell_type": "code",
   "execution_count": 108,
   "metadata": {},
   "outputs": [],
   "source": [
    "DATASET = 'Credit'\n",
    "results_estimates, best_hyperparams = process_results(DATASET)"
   ]
  },
  {
   "cell_type": "markdown",
   "metadata": {},
   "source": [
    "### Weather"
   ]
  },
  {
   "cell_type": "code",
   "execution_count": 121,
   "metadata": {},
   "outputs": [],
   "source": [
    "DATASET = 'Weather'\n",
    "results_estimates, best_hyperparams = process_results(DATASET)"
   ]
  },
  {
   "cell_type": "markdown",
   "metadata": {},
   "source": [
    "### EMNIST"
   ]
  },
  {
   "cell_type": "code",
   "execution_count": 24,
   "metadata": {},
   "outputs": [],
   "source": [
    "DATASET = 'EMNIST'\n",
    "results_estimates, best_hyperparams = process_results(DATASET)"
   ]
  },
  {
   "cell_type": "markdown",
   "metadata": {},
   "source": [
    "### CIFAR"
   ]
  },
  {
   "cell_type": "code",
   "execution_count": 30,
   "metadata": {},
   "outputs": [],
   "source": [
    "DATASET = 'CIFAR'\n",
    "results_estimates, best_hyperparams = process_results(DATASET)"
   ]
  },
  {
   "cell_type": "markdown",
   "metadata": {},
   "source": [
    "### IXITiny"
   ]
  },
  {
   "cell_type": "code",
   "execution_count": 34,
   "metadata": {},
   "outputs": [],
   "source": [
    "DATASET = 'IXITiny'\n",
    "results_estimates, best_hyperparams = process_results(DATASET)"
   ]
  },
  {
   "cell_type": "markdown",
   "metadata": {},
   "source": [
    "### ISIC"
   ]
  },
  {
   "cell_type": "code",
   "execution_count": 5,
   "metadata": {},
   "outputs": [],
   "source": [
    "DATASET = 'ISIC'\n",
    "results_estimates, best_hyperparams = process_results(DATASET)"
   ]
  },
  {
   "cell_type": "markdown",
   "metadata": {},
   "source": [
    "# Grid search LR and reg param (DITTO, pFedMe)"
   ]
  },
  {
   "cell_type": "code",
   "execution_count": 4,
   "metadata": {},
   "outputs": [],
   "source": [
    "grid = True"
   ]
  },
  {
   "cell_type": "markdown",
   "metadata": {},
   "source": [
    "### Synthetic"
   ]
  },
  {
   "cell_type": "code",
   "execution_count": 5,
   "metadata": {},
   "outputs": [
    {
     "data": {
      "text/plain": [
       "{0.03: {'pfedme': 'ADM: (0.05, 0.001): 0.682',\n",
       "  'ditto': 'ADM: (0.1, 0.01): 0.679'},\n",
       " 0.4: {'pfedme': 'ADM: (0.1, 0.001): 0.644',\n",
       "  'ditto': 'ADM: (0.1, 0.01): 0.641'},\n",
       " 0.1: {'pfedme': 'ADM: (0.1, 0.001): 0.644',\n",
       "  'ditto': 'ADM: (0.1, 0.01): 0.626'}}"
      ]
     },
     "execution_count": 5,
     "metadata": {},
     "output_type": "execute_result"
    }
   ],
   "source": [
    "DATASET = 'Synthetic'\n",
    "results_estimates, best_hyperparams = process_results(DATASET, grid)\n",
    "best_hyperparams"
   ]
  },
  {
   "cell_type": "markdown",
   "metadata": {},
   "source": [
    "### Credit"
   ]
  },
  {
   "cell_type": "code",
   "execution_count": 6,
   "metadata": {},
   "outputs": [
    {
     "data": {
      "text/plain": [
       "{0.12: {'pfedme': 'ADM: (0.1, 0.01): 0.952', 'ditto': 'ADM: (0.1, 1): 0.941'},\n",
       " 0.4: {'pfedme': 'ADM: (0.1, 0.01): 0.920',\n",
       "  'ditto': 'ADM: (0.05, 0.001): 0.911'},\n",
       " 0.23: {'pfedme': 'ADM: (0.1, 0.001): 0.932',\n",
       "  'ditto': 'ADM: (0.1, 0.001): 0.919'}}"
      ]
     },
     "execution_count": 6,
     "metadata": {},
     "output_type": "execute_result"
    }
   ],
   "source": [
    "DATASET = 'Credit'\n",
    "results_estimates, best_hyperparams = process_results(DATASET, grid)\n",
    "best_hyperparams"
   ]
  },
  {
   "cell_type": "markdown",
   "metadata": {},
   "source": [
    "### Weather"
   ]
  },
  {
   "cell_type": "code",
   "execution_count": 7,
   "metadata": {},
   "outputs": [
    {
     "data": {
      "text/plain": [
       "{0.11: {'pfedme': 'ADM: (0.1, 0.1): 0.911', 'ditto': 'ADM: (0.1, 0.5): 0.907'},\n",
       " 0.4: {'pfedme': 'ADM: (0.1, 0.01): 0.920', 'ditto': 'ADM: (0.1, 0.5): 0.912'},\n",
       " 0.3: {'pfedme': 'ADM: (0.1, 0.1): 0.917', 'ditto': 'ADM: (0.1, 0.5): 0.916'}}"
      ]
     },
     "execution_count": 7,
     "metadata": {},
     "output_type": "execute_result"
    }
   ],
   "source": [
    "DATASET = 'Weather'\n",
    "results_estimates, best_hyperparams = process_results(DATASET, grid)\n",
    "best_hyperparams"
   ]
  },
  {
   "cell_type": "markdown",
   "metadata": {},
   "source": [
    "### EMNIST"
   ]
  },
  {
   "cell_type": "code",
   "execution_count": 8,
   "metadata": {},
   "outputs": [
    {
     "data": {
      "text/plain": [
       "{0.11: {'pfedme': 'ADM: (0.05, 0.1): 0.962',\n",
       "  'ditto': 'ADM: (0.1, 0.5): 0.942'},\n",
       " 0.25: {'pfedme': 'ADM: (0.05, 0.01): 0.801',\n",
       "  'ditto': 'ADM: (0.1, 0.001): 0.746'},\n",
       " 0.34: {'pfedme': 'ADM: (0.05, 0.01): 0.830',\n",
       "  'ditto': 'ADM: (0.1, 0.01): 0.746'},\n",
       " 0.39: {'pfedme': 'ADM: (0.05, 0.01): 0.877',\n",
       "  'ditto': 'ADM: (0.1, 0.01): 0.814'},\n",
       " 0.19: {'pfedme': 'ADM: (0.05, 0.1): 0.834', 'ditto': 'ADM: (0.1, 1): 0.793'}}"
      ]
     },
     "execution_count": 8,
     "metadata": {},
     "output_type": "execute_result"
    }
   ],
   "source": [
    "DATASET = 'EMNIST'\n",
    "results_estimates, best_hyperparams = process_results(DATASET, grid)\n",
    "best_hyperparams"
   ]
  },
  {
   "cell_type": "markdown",
   "metadata": {},
   "source": [
    "### CIFAR"
   ]
  },
  {
   "cell_type": "code",
   "execution_count": 9,
   "metadata": {},
   "outputs": [
    {
     "data": {
      "text/plain": [
       "{0.08: {'pfedme': 'ADM: (0.01, 0.5): 0.901',\n",
       "  'ditto': 'ADM: (0.005, 1): 0.874'}}"
      ]
     },
     "execution_count": 9,
     "metadata": {},
     "output_type": "execute_result"
    }
   ],
   "source": [
    "DATASET = 'CIFAR'\n",
    "results_estimates, best_hyperparams = process_results(DATASET, grid)\n",
    "best_hyperparams"
   ]
  },
  {
   "cell_type": "markdown",
   "metadata": {},
   "source": [
    "### IXITiny"
   ]
  },
  {
   "cell_type": "code",
   "execution_count": null,
   "metadata": {},
   "outputs": [],
   "source": [
    "DATASET = 'IXITiny'\n",
    "results_estimates, best_hyperparams = process_results(DATASET, grid)"
   ]
  },
  {
   "cell_type": "markdown",
   "metadata": {},
   "source": [
    "### ISIC"
   ]
  },
  {
   "cell_type": "code",
   "execution_count": null,
   "metadata": {},
   "outputs": [],
   "source": [
    "DATASET = 'ISIC'\n",
    "results_estimates, best_hyperparams = process_results(DATASET, grid)"
   ]
  }
 ],
 "metadata": {
  "kernelspec": {
   "display_name": "Python 3 (ipykernel)",
   "language": "python",
   "name": "python3"
  },
  "language_info": {
   "codemirror_mode": {
    "name": "ipython",
    "version": 3
   },
   "file_extension": ".py",
   "mimetype": "text/x-python",
   "name": "python",
   "nbconvert_exporter": "python",
   "pygments_lexer": "ipython3",
   "version": "3.10.10"
  },
  "orig_nbformat": 4,
  "vscode": {
   "interpreter": {
    "hash": "31f2aee4e71d21fbe5cf8b01ff0e069b9275f58929596ceb00d14d90e3e16cd6"
   }
  }
 },
 "nbformat": 4,
 "nbformat_minor": 2
}
