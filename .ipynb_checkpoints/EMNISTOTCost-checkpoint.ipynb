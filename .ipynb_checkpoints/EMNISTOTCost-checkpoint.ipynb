{
 "cells": [
  {
   "cell_type": "code",
   "execution_count": 1,
   "metadata": {},
   "outputs": [],
   "source": [
    "import pandas as pd\n",
    "import numpy as np\n",
    "from sklearn.preprocessing import StandardScaler\n",
    "import os\n",
    "import copy\n",
    "import matplotlib.pyplot as plt\n",
    "import seaborn as sns\n",
    "import random\n",
    "import sys\n",
    "sys.path.append('/gpfs/commons/groups/gursoy_lab/aelhussein/pfl/otcost_fl/code/')\n",
    "import OTCost as ot\n",
    "import splitData as sd\n",
    "import importlib\n",
    "importlib.reload(ot)\n",
    "importlib.reload(sd)\n",
    "from sklearn.preprocessing import normalize\n",
    "from torchvision.datasets import EMNIST\n",
    "from PIL import Image\n",
    "from emnist import extract_training_samples"
   ]
  },
  {
   "cell_type": "markdown",
   "metadata": {},
   "source": [
    "## load data"
   ]
  },
  {
   "cell_type": "code",
   "execution_count": 10,
   "metadata": {},
   "outputs": [],
   "source": [
    "##load dataset\n",
    "images_full, labels_full = extract_training_samples('byclass')"
   ]
  },
  {
   "cell_type": "code",
   "execution_count": 11,
   "metadata": {},
   "outputs": [],
   "source": [
    "def pull_labels(images, labels, indices, size):\n",
    "    ##get indices for x, i\n",
    "    indices_x =  getIndices(indices[0], size)\n",
    "    indices_i =  getIndices(indices[1], size)\n",
    "\n",
    "\n",
    "    ##randomly permute and take fixed size of points\n",
    "    #np.random.seed(10)\n",
    "    indices_x = np.random.permutation(indices_x)\n",
    "    indices_i = np.random.permutation(indices_i)\n",
    "    \n",
    "    ind_1 = indices_x[:size]\n",
    "    ind_2 = indices_i[:size]\n",
    "\n",
    "    ##pull data and labels\n",
    "    X1 = images[ind_1] / 255\n",
    "    X2 = images[ind_2] / 255\n",
    "    y1 = labels[ind_1]\n",
    "    y2 = labels[ind_2]\n",
    "\n",
    "    ## reshape\n",
    "    #X1 = X1.reshape((size, 28*28))\n",
    "    #X2 = X2.reshape((size, 28*28))\n",
    "\n",
    "    return {\"1\": X1, \"2\": X2}, {\"1\":y1, \"2\":y2}"
   ]
  },
  {
   "cell_type": "code",
   "execution_count": 12,
   "metadata": {},
   "outputs": [],
   "source": [
    "def getIndices(indices, size):\n",
    "    ##get number of indices\n",
    "    num_ind = len(indices)\n",
    "    ##get number per label\n",
    "    num_per_label = int(size / num_ind) + 10\n",
    "    indices_use = []\n",
    "    ## loop through and pull indices\n",
    "    for ind in indices:\n",
    "        indices_use.extend(np.where(np.isin(labels_full, ind) == True)[0][:num_per_label])\n",
    "    return indices_use"
   ]
  },
  {
   "cell_type": "code",
   "execution_count": 13,
   "metadata": {},
   "outputs": [],
   "source": [
    "def addNoise(data, mean = 0, sigma = 1):\n",
    "    n = data.shape[0]\n",
    "    np.random.seed(1331)\n",
    "    noise = np.random.normal(mean, sigma, size = n*28*28).reshape(n,28,28)\n",
    "    data_ = copy.deepcopy(data)\n",
    "    data_ += noise\n",
    "    return data_\n"
   ]
  },
  {
   "cell_type": "code",
   "execution_count": 14,
   "metadata": {},
   "outputs": [],
   "source": [
    "def saveDataset(X,y, name):\n",
    "    path = '/gpfs/commons/groups/gursoy_lab/aelhussein/classes/pfl/otcost_fl/data/EMNIST/'\n",
    "    np.savez(f'{path}{name}.npz', data = X, labels = y)\n",
    "    return"
   ]
  },
  {
   "cell_type": "code",
   "execution_count": 18,
   "metadata": {},
   "outputs": [],
   "source": [
    "def sampler(data, label, num = 500):\n",
    "    data_, label_  = {}, {}\n",
    "    for i in data:\n",
    "        idx = np.random.choice(np.arange(data[i].shape[0]), num, replace=False)\n",
    "        data_[i] = data[i][idx]\n",
    "        label_[i] = label[i][idx].reshape(1,-1)[0]\n",
    "\n",
    "        data_[i] = data_[i].reshape((num, 28*28))\n",
    "    return data_, label_\n"
   ]
  },
  {
   "cell_type": "markdown",
   "metadata": {},
   "source": [
    "## view images"
   ]
  },
  {
   "cell_type": "code",
   "execution_count": 37,
   "metadata": {},
   "outputs": [
    {
     "data": {
      "image/png": "[encoded data removed]",
      "text/plain": [
       "<Figure size 640x480 with 1 Axes>"
      ]
     },
     "metadata": {},
     "output_type": "display_data"
    },
    {
     "data": {
      "image/png": "[encoded data removed]",
      "text/plain": [
       "<Figure size 640x480 with 1 Axes>"
      ]
     },
     "metadata": {},
     "output_type": "display_data"
    },
    {
     "data": {
      "image/png": "[encoded data removed]",
      "text/plain": [
       "<Figure size 640x480 with 1 Axes>"
      ]
     },
     "metadata": {},
     "output_type": "display_data"
    }
   ],
   "source": [
    "digits = [x for x in range(10)]\n",
    "indices = [digits, [36,61]]\n",
    "data, label = pull_labels(images_full, labels_full, indices, size = 500)\n",
    "for i in range(200,203):\n",
    "    image = np.reshape(data['2'][i], (28, 28))\n",
    "    plt.imshow(image, cmap='gray')\n",
    "    plt.show()"
   ]
  },
  {
   "cell_type": "markdown",
   "metadata": {},
   "source": [
    "## create datasets"
   ]
  },
  {
   "cell_type": "code",
   "execution_count": 102,
   "metadata": {},
   "outputs": [
    {
     "name": "stdout",
     "output_type": "stream",
     "text": [
      "cost: 0.0672457057\n"
     ]
    }
   ],
   "source": [
    "##0.05 same digits 1-5\n",
    "importlib.reload(ot)\n",
    "digits = [x for x in range(6)]\n",
    "indices = [digits, digits]\n",
    "data, label = pull_labels(images_full, labels_full, indices, size = 5000)\n",
    "data_, label_ = sampler(data, label)\n",
    "\n",
    "cost = ot.EMNIST_OTCost_label(data_, label_, private = False)\n",
    "cost = \"{:.2f}\".format(float(cost))\n",
    "\n",
    "saveDataset(data['1'],label['1'], f'data_1_{cost}')\n",
    "saveDataset(data['2'],label['2'], f'data_2_{cost}')"
   ]
  },
  {
   "cell_type": "code",
   "execution_count": 103,
   "metadata": {},
   "outputs": [
    {
     "name": "stdout",
     "output_type": "stream",
     "text": [
      "cost: 0.1066459341\n"
     ]
    }
   ],
   "source": [
    "##0.1 near identical digits \n",
    "importlib.reload(ot)\n",
    "digits_1 = [1,2,3,4,5,6,7,8]\n",
    "digits_2 = [1,2,3,4,5,6,7,9]\n",
    "## 4 indices\n",
    "indices = [digits_1, digits_2]\n",
    "data, label = pull_labels(images_full, labels_full, indices, size = 5000)\n",
    "data_, label_ = sampler(data, label)\n",
    "\n",
    "cost = ot.EMNIST_OTCost_label(data_, label_, private = False)\n",
    "cost = \"{:.1f}\".format(float(cost))\n",
    "\n",
    "saveDataset(data['1'],label['1'], f'data_1_{cost}')\n",
    "saveDataset(data['2'],label['2'], f'data_2_{cost}')"
   ]
  },
  {
   "cell_type": "code",
   "execution_count": 114,
   "metadata": {},
   "outputs": [
    {
     "name": "stdout",
     "output_type": "stream",
     "text": [
      "cost: 0.1729612286\n"
     ]
    }
   ],
   "source": [
    "##0.2 some shared digits\n",
    "importlib.reload(ot)\n",
    "digits_1 = [1,2,3,4,5,7,9]\n",
    "digits_2 = [1,2,3,4,5,6,8]\n",
    "indices = [digits_1, digits_2]\n",
    "data, label = pull_labels(images_full, labels_full, indices, size = 5000)\n",
    "data_, label_ = sampler(data, label)\n",
    "\n",
    "cost = ot.EMNIST_OTCost_label(data_, label_, private = False)\n",
    "cost = \"{:.1f}\".format(float(cost))\n",
    "\n",
    "saveDataset(data['1'],label['1'], f'data_1_{cost}')\n",
    "saveDataset(data['2'],label['2'], f'data_2_{cost}')"
   ]
  },
  {
   "cell_type": "code",
   "execution_count": 119,
   "metadata": {},
   "outputs": [
    {
     "name": "stdout",
     "output_type": "stream",
     "text": [
      "cost: 0.3339663774\n"
     ]
    }
   ],
   "source": [
    "##0.3 upper vs. lower\n",
    "importlib.reload(ot)\n",
    "upper_characters = [x for x in range(10, 25)]\n",
    "lower_characters = [x for x in range(36, 51)]\n",
    "indices = [upper_characters, lower_characters]\n",
    "data, label = pull_labels(images_full, labels_full, indices, size = 5000)\n",
    "data_, label_ = sampler(data, label, num = 800)\n",
    "\n",
    "cost = ot.EMNIST_OTCost_label(data_, label_, private = False)\n",
    "cost = \"{:.1f}\".format(float(cost))\n",
    "\n",
    "saveDataset(data['1'],label['1'], f'data_1_{cost}')\n",
    "saveDataset(data['2'],label['2'], f'data_2_{cost}')"
   ]
  },
  {
   "cell_type": "code",
   "execution_count": 58,
   "metadata": {},
   "outputs": [
    {
     "name": "stdout",
     "output_type": "stream",
     "text": [
      "cost: 0.3784506696\n"
     ]
    }
   ],
   "source": [
    "##0.4 discordant characters\n",
    "importlib.reload(ot)\n",
    "upper_characters = [x for x in range(10, 22)]\n",
    "lower_characters = [x for x in range(50, 62)]\n",
    "indices = [upper_characters, lower_characters]\n",
    "data, label = pull_labels(images_full, labels_full, indices, size = 5000)\n",
    "data_, label_ = sampler(data, label, num = 800)\n",
    "\n",
    "cost = ot.EMNIST_OTCost_label(data_, label_, private = False)\n",
    "cost = \"{:.1f}\".format(float(cost))\n",
    "\n",
    "saveDataset(data['1'],label['1'], f'data_1_{cost}')\n",
    "saveDataset(data['2'],label['2'], f'data_2_{cost}')"
   ]
  },
  {
   "cell_type": "markdown",
   "metadata": {},
   "source": [
    "## OLD "
   ]
  }
 ],
 "metadata": {
  "kernelspec": {
   "display_name": "Python 3 (ipykernel)",
   "language": "python",
   "name": "python3"
  },
  "language_info": {
   "codemirror_mode": {
    "name": "ipython",
    "version": 3
   },
   "file_extension": ".py",
   "mimetype": "text/x-python",
   "name": "python",
   "nbconvert_exporter": "python",
   "pygments_lexer": "ipython3",
   "version": "3.9.7"
  },
  "vscode": {
   "interpreter": {
    "hash": "31f2aee4e71d21fbe5cf8b01ff0e069b9275f58929596ceb00d14d90e3e16cd6"
   }
  }
 },
 "nbformat": 4,
 "nbformat_minor": 2
}
