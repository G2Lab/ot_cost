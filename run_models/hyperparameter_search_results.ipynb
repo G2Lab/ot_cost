{
 "cells": [
  {
   "cell_type": "code",
   "execution_count": null,
   "metadata": {},
   "outputs": [],
   "source": [
    "ROOT_DIR = '/gpfs/commons/groups/gursoy_lab/aelhussein/ot_cost/otcost_fl_rebase'\n",
    "import pandas as pd\n",
    "import sys\n",
    "import numpy as np\n",
    "import pickle\n",
    "import matplotlib.pyplot as plt\n",
    "import seaborn as sns\n",
    "from scipy.stats import bootstrap"
   ]
  },
  {
   "cell_type": "code",
   "execution_count": null,
   "metadata": {},
   "outputs": [],
   "source": [
    "def load_results(DATASET, grid):\n",
    "    if grid:\n",
    "        with open(f'{ROOT_DIR}/results/{DATASET}/{DATASET}_hyperparameter_search_personal.pkl', 'rb') as f :\n",
    "            results = pickle.load(f)\n",
    "    else:\n",
    "        with open(f'{ROOT_DIR}/results/{DATASET}/{DATASET}_hyperparameter_search.pkl', 'rb') as f :\n",
    "            results = pickle.load(f)\n",
    "    return results\n",
    "    \n",
    "def bootstrap_ci(data):\n",
    "    estimates = {}\n",
    "    for c in data:\n",
    "        estimates[c]={}\n",
    "        for arch in data[c]:\n",
    "            estimates[c][arch]={}\n",
    "            for optim in data[c][arch]:\n",
    "                estimates[c][arch][optim]={}\n",
    "                for lr in data[c][arch][optim]:\n",
    "                    res = data[c][arch][optim][lr]\n",
    "                    if isinstance(res, list):\n",
    "                        if len(res) == 1:\n",
    "                            res = [res[0] + np.random.normal(0,1e-6)  for _ in range(10)] # to allow bootstrapping - so small were getting the value anywyas\n",
    "                    elif isinstance(res, float):\n",
    "                         res = [res + np.random.normal(0,1e-6) for _ in range(10)]\n",
    "                    mean = np.median(res)\n",
    "                    bs_reps = bootstrap(np.array(res).reshape(1,-1), statistic=np.mean, n_resamples=1000)\n",
    "                    ci = bs_reps.confidence_interval[0:2]\n",
    "                    estimates[c][arch][optim][lr] = np.mean([mean, mean, mean, ci[0], ci[1]])\n",
    "    return estimates\n",
    "\n",
    "def best_parameters(results_estimates):\n",
    "    best_combinations = {}\n",
    "    for cost, architectures in results_estimates.items():\n",
    "        for architecture, optimizers in architectures.items():\n",
    "            best_value = -float('inf')\n",
    "            best_optimizer_lr = \"\"\n",
    "            for optimizer, lrs in optimizers.items():\n",
    "                for lr, value in lrs.items():\n",
    "                    if value > best_value:\n",
    "                        best_value = value\n",
    "                        best_optimizer_lr = f\"{optimizer}: {lr}: {value:.3f}\"\n",
    "            if cost not in best_combinations:\n",
    "                best_combinations[cost] = {}\n",
    "            best_combinations[cost][architecture] = best_optimizer_lr\n",
    "    best_combinations = {key: best_combinations[key] for key in sorted(best_combinations)}\n",
    "    return best_combinations\n",
    "\n",
    "def process_results(DATASET, grid=False):\n",
    "    results = load_results(DATASET, grid)\n",
    "    results_estimates = bootstrap_ci(results)\n",
    "    best_hyperparams = best_parameters(results_estimates)\n",
    "    return results_estimates, best_hyperparams"
   ]
  },
  {
   "cell_type": "markdown",
   "metadata": {},
   "source": [
    "# LR only"
   ]
  },
  {
   "cell_type": "markdown",
   "metadata": {},
   "source": [
    "### Synthetic"
   ]
  },
  {
   "cell_type": "code",
   "execution_count": null,
   "metadata": {},
   "outputs": [],
   "source": [
    "DATASET = 'Synthetic'\n",
    "results_estimates, best_hyperparams = process_results(DATASET)\n",
    "best_hyperparams"
   ]
  },
  {
   "cell_type": "markdown",
   "metadata": {},
   "source": [
    "### Credit"
   ]
  },
  {
   "cell_type": "code",
   "execution_count": null,
   "metadata": {},
   "outputs": [],
   "source": [
    "DATASET = 'Credit'\n",
    "results_estimates, best_hyperparams = process_results(DATASET)\n",
    "best_hyperparams"
   ]
  },
  {
   "cell_type": "markdown",
   "metadata": {},
   "source": [
    "### Weather"
   ]
  },
  {
   "cell_type": "code",
   "execution_count": null,
   "metadata": {},
   "outputs": [],
   "source": [
    "DATASET = 'Weather'\n",
    "results_estimates, best_hyperparams = process_results(DATASET)\n",
    "best_hyperparams"
   ]
  },
  {
   "cell_type": "markdown",
   "metadata": {},
   "source": [
    "### EMNIST"
   ]
  },
  {
   "cell_type": "code",
   "execution_count": null,
   "metadata": {},
   "outputs": [],
   "source": [
    "DATASET = 'EMNIST'\n",
    "results_estimates, best_hyperparams = process_results(DATASET)\n",
    "best_hyperparams"
   ]
  },
  {
   "cell_type": "markdown",
   "metadata": {},
   "source": [
    "### CIFAR"
   ]
  },
  {
   "cell_type": "code",
   "execution_count": null,
   "metadata": {},
   "outputs": [],
   "source": [
    "DATASET = 'CIFAR'\n",
    "results_estimates, best_hyperparams = process_results(DATASET)\n",
    "best_hyperparams"
   ]
  },
  {
   "cell_type": "markdown",
   "metadata": {},
   "source": [
    "### IXITiny"
   ]
  },
  {
   "cell_type": "code",
   "execution_count": null,
   "metadata": {},
   "outputs": [],
   "source": [
    "DATASET = 'IXITiny'\n",
    "results_estimates, best_hyperparams = process_results(DATASET)\n",
    "best_hyperparams"
   ]
  },
  {
   "cell_type": "markdown",
   "metadata": {},
   "source": [
    "### ISIC"
   ]
  },
  {
   "cell_type": "code",
   "execution_count": null,
   "metadata": {},
   "outputs": [],
   "source": [
    "DATASET = 'ISIC'\n",
    "results_estimates, best_hyperparams = process_results(DATASET)\n",
    "best_hyperparams"
   ]
  },
  {
   "cell_type": "markdown",
   "metadata": {},
   "source": [
    "# Grid search LR and reg param (DITTO, pFedMe)"
   ]
  },
  {
   "cell_type": "code",
   "execution_count": null,
   "metadata": {},
   "outputs": [],
   "source": [
    "grid = True"
   ]
  },
  {
   "cell_type": "markdown",
   "metadata": {},
   "source": [
    "### Synthetic"
   ]
  },
  {
   "cell_type": "code",
   "execution_count": null,
   "metadata": {},
   "outputs": [],
   "source": [
    "DATASET = 'Synthetic'\n",
    "results_estimates, best_hyperparams = process_results(DATASET, grid)\n",
    "best_hyperparams"
   ]
  },
  {
   "cell_type": "markdown",
   "metadata": {},
   "source": [
    "### Credit"
   ]
  },
  {
   "cell_type": "code",
   "execution_count": null,
   "metadata": {},
   "outputs": [],
   "source": [
    "DATASET = 'Credit'\n",
    "results_estimates, best_hyperparams = process_results(DATASET, grid)\n",
    "best_hyperparams"
   ]
  },
  {
   "cell_type": "markdown",
   "metadata": {},
   "source": [
    "### Weather"
   ]
  },
  {
   "cell_type": "code",
   "execution_count": null,
   "metadata": {},
   "outputs": [],
   "source": [
    "DATASET = 'Weather'\n",
    "results_estimates, best_hyperparams = process_results(DATASET, grid)\n",
    "best_hyperparams"
   ]
  },
  {
   "cell_type": "markdown",
   "metadata": {},
   "source": [
    "### EMNIST"
   ]
  },
  {
   "cell_type": "code",
   "execution_count": null,
   "metadata": {},
   "outputs": [],
   "source": [
    "DATASET = 'EMNIST'\n",
    "results_estimates, best_hyperparams = process_results(DATASET, grid)\n",
    "best_hyperparams"
   ]
  },
  {
   "cell_type": "markdown",
   "metadata": {},
   "source": [
    "### CIFAR"
   ]
  },
  {
   "cell_type": "code",
   "execution_count": null,
   "metadata": {},
   "outputs": [],
   "source": [
    "def load_results(DATASET, grid):\n",
    "    if grid:\n",
    "        with open(f'{ROOT_DIR}/results/{DATASET}/{DATASET}_hyperparameter_search_personal.pkl', 'rb') as f :\n",
    "            results = pickle.load(f)\n",
    "    else:\n",
    "        with open(f'{ROOT_DIR}/results/{DATASET}/{DATASET}_hyperparameter_search.pkl', 'rb') as f :\n",
    "            results = pickle.load(f)\n",
    "    return results"
   ]
  },
  {
   "cell_type": "code",
   "execution_count": null,
   "metadata": {},
   "outputs": [],
   "source": [
    "DATASET = 'CIFAR'\n",
    "results_estimates, best_hyperparams = process_results(DATASET, grid)\n",
    "best_hyperparams"
   ]
  },
  {
   "cell_type": "markdown",
   "metadata": {},
   "source": [
    "### IXITiny"
   ]
  },
  {
   "cell_type": "code",
   "execution_count": 58,
   "metadata": {},
   "outputs": [
    {
     "data": {
      "text/plain": [
       "{0.08: {'pfedme': 'ADM: (0.05, 0.5): 0.439',\n",
       "  'ditto': 'ADM: (0.1, 0.1): 0.443'},\n",
       " 0.28: {'pfedme': 'ADM: (0.05, 0.01): 0.441',\n",
       "  'ditto': 'ADM: (0.05, 0.01): 0.395'},\n",
       " 0.3: {'pfedme': 'ADM: (0.05, 0.001): 0.437',\n",
       "  'ditto': 'ADM: (0.1, 0.01): 0.399'}}"
      ]
     },
     "execution_count": 58,
     "metadata": {},
     "output_type": "execute_result"
    }
   ],
   "source": [
    "DATASET = 'IXITiny'\n",
    "results_estimates, best_hyperparams = process_results(DATASET, grid)\n",
    "best_hyperparams"
   ]
  },
  {
   "cell_type": "markdown",
   "metadata": {},
   "source": [
    "### ISIC"
   ]
  },
  {
   "cell_type": "code",
   "execution_count": 59,
   "metadata": {},
   "outputs": [
    {
     "data": {
      "text/plain": [
       "{0.06: {'pfedme': 'ADM: (0.005, 0.5): 0.626',\n",
       "  'ditto': 'ADM: (0.01, 0.5): 0.515'},\n",
       " 0.15: {'pfedme': 'ADM: (0.005, 0.1): 0.582',\n",
       "  'ditto': 'ADM: (0.01, 0.1): 0.514'},\n",
       " 0.19: {'pfedme': 'ADM: (0.005, 0.1): 0.525',\n",
       "  'ditto': 'ADM: (0.01, 0.1): 0.553'},\n",
       " 0.25: {'pfedme': 'ADM: (0.005, 0.01): 0.506',\n",
       "  'ditto': 'ADM: (0.01, 0.01): 0.485'},\n",
       " 0.3: {'pfedme': 'ADM: (0.01, 0.001): 0.541',\n",
       "  'ditto': 'ADM: (0.01, 0.01): 0.519'}}"
      ]
     },
     "execution_count": 59,
     "metadata": {},
     "output_type": "execute_result"
    }
   ],
   "source": [
    "DATASET = 'ISIC'\n",
    "results_estimates, best_hyperparams = process_results(DATASET, grid)\n",
    "best_hyperparams"
   ]
  }
 ],
 "metadata": {
  "kernelspec": {
   "display_name": "Python 3 (ipykernel)",
   "language": "python",
   "name": "python3"
  },
  "language_info": {
   "codemirror_mode": {
    "name": "ipython",
    "version": 3
   },
   "file_extension": ".py",
   "mimetype": "text/x-python",
   "name": "python",
   "nbconvert_exporter": "python",
   "pygments_lexer": "ipython3",
   "version": "3.10.10"
  },
  "orig_nbformat": 4,
  "vscode": {
   "interpreter": {
    "hash": "31f2aee4e71d21fbe5cf8b01ff0e069b9275f58929596ceb00d14d90e3e16cd6"
   }
  }
 },
 "nbformat": 4,
 "nbformat_minor": 2
}
