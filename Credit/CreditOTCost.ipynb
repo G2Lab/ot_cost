{
 "cells": [
  {
   "cell_type": "code",
   "execution_count": 1,
   "metadata": {},
   "outputs": [],
   "source": [
    "global ROOT_DIR\n",
    "ROOT_DIR = '/gpfs/commons/groups/gursoy_lab/aelhussein/ot_cost/otcost_fl_rebase'\n",
    "DATA_DIR = f'{ROOT_DIR}/data/Credit'"
   ]
  },
  {
   "cell_type": "code",
   "execution_count": 329,
   "metadata": {},
   "outputs": [],
   "source": [
    "import pandas as pd\n",
    "import numpy as np\n",
    "import copy\n",
    "import sys\n",
    "sys.path.append(f'{ROOT_DIR}/code/helper/')\n",
    "import OTCost as ot\n",
    "import importlib\n",
    "importlib.reload(ot)\n",
    "import random\n",
    "SEED = 1234\n",
    "np.random.seed(SEED)\n",
    "random.seed(SEED)"
   ]
  },
  {
   "cell_type": "code",
   "execution_count": 455,
   "metadata": {},
   "outputs": [],
   "source": [
    "## create overall test set taking random sample of dataset\n",
    "def fracData(data, share, share_pos = 0.35):\n",
    "    ## size of dataset\n",
    "    num = int(data.shape[0] * share)\n",
    "    ## share of pos and neg\n",
    "    pos = int(share_pos * num)\n",
    "    neg = int((1-share_pos) * num)\n",
    "    df = pd.concat([data.groupby('Class').get_group(0).sample(n = neg, random_state = SEED),\n",
    "             data.groupby('Class').get_group(1).sample(n = pos, random_state = SEED)])\n",
    "    return df.sample(frac = 1)"
   ]
  },
  {
   "cell_type": "code",
   "execution_count": 331,
   "metadata": {},
   "outputs": [],
   "source": [
    "def splitDataCredit(data, frac_pos, frac_neg):\n",
    "    df_1 = pd.concat([data.groupby('Class').get_group(0).sample(frac = frac_neg, random_state = SEED),\n",
    "             data.groupby('Class').get_group(1).sample(frac = frac_pos, random_state = SEED)])\n",
    "    df_2 = data.loc[~data.index.isin(df_1.index)]\n",
    "    return df_1.sample(frac = 1), df_2.sample(frac = 1)\n"
   ]
  },
  {
   "cell_type": "code",
   "execution_count": 332,
   "metadata": {},
   "outputs": [],
   "source": [
    "def splitLabel(df):\n",
    "##split into features and labels\n",
    "    X = df.iloc[:,1:29]\n",
    "    y = df.iloc[:,-1]\n",
    "    return X.values, y.values.reshape(-1)"
   ]
  },
  {
   "cell_type": "code",
   "execution_count": 333,
   "metadata": {},
   "outputs": [],
   "source": [
    "def dictionaryCreater(d1, d2):\n",
    "    ##wrangle to dictionary for OT cost calculation\n",
    "    X1, y1 = splitLabel(d1)\n",
    "    X2, y2 = splitLabel(d2)\n",
    "    data, label = {\"1\": X1, \"2\": X2}, {\"1\": y1.reshape(1,-1)[0], \"2\": y2.reshape(1,-1)[0]}\n",
    "    return data, label"
   ]
  },
  {
   "cell_type": "code",
   "execution_count": 466,
   "metadata": {},
   "outputs": [],
   "source": [
    "def sampler(data, label, num = 2000):\n",
    "    data_, label_  = {}, {}\n",
    "    for i in data:\n",
    "        idx = np.random.choice(np.arange(data[i].shape[0]), num, replace=False)\n",
    "        data_[i] = data[i][idx]\n",
    "        label_[i] = label[i][idx]\n",
    "    return data_, label_"
   ]
  },
  {
   "cell_type": "code",
   "execution_count": 335,
   "metadata": {},
   "outputs": [],
   "source": [
    "def addNoise(data, mean = 0, sigma = 1):\n",
    "    k = data.shape[1]\n",
    "    n = data.shape[0]\n",
    "    noise = np.random.normal(mean, sigma, size = n*k).reshape(n,k)\n",
    "    data_ = copy.deepcopy(data)\n",
    "    data_.iloc[:,1:30] += noise[:, 1:30]\n",
    "    return data_\n"
   ]
  },
  {
   "cell_type": "code",
   "execution_count": 336,
   "metadata": {},
   "outputs": [],
   "source": [
    "def saveDataset(X,y, name):\n",
    "    d1= np.concatenate((X, y.reshape(-1,1)), axis=1)\n",
    "    np.savetxt(f'{DATA_DIR}/{name}.csv',d1)\n",
    "    return"
   ]
  },
  {
   "attachments": {},
   "cell_type": "markdown",
   "metadata": {},
   "source": [
    "## Load data"
   ]
  },
  {
   "cell_type": "code",
   "execution_count": 337,
   "metadata": {},
   "outputs": [],
   "source": [
    "##load dataset\n",
    "df = pd.read_csv(f'{DATA_DIR}/creditcard.csv')"
   ]
  },
  {
   "cell_type": "code",
   "execution_count": 456,
   "metadata": {},
   "outputs": [],
   "source": [
    "df_ = fracData(df, 0.0045)"
   ]
  },
  {
   "attachments": {},
   "cell_type": "markdown",
   "metadata": {},
   "source": [
    "## OT cost"
   ]
  },
  {
   "cell_type": "code",
   "execution_count": 533,
   "metadata": {},
   "outputs": [],
   "source": [
    "private = False\n",
    "DATASET = 'Credit'\n",
    "SAVE = False"
   ]
  },
  {
   "cell_type": "code",
   "execution_count": 563,
   "metadata": {},
   "outputs": [
    {
     "name": "stdout",
     "output_type": "stream",
     "text": [
      "cost: 0.13\n"
     ]
    }
   ],
   "source": [
    "importlib.reload(ot)\n",
    "frac_pos, frac_neg = 0.5, 0.5\n",
    "d1, d2 = splitDataCredit(df_, frac_pos, frac_neg)\n",
    "data, label = dictionaryCreater(d1, d2)\n",
    "data_, label_ = sampler(data, label)\n",
    "\n",
    "Credit_OTCost_label = ot.OTCost(DATASET, data_, label_)\n",
    "cost = Credit_OTCost_label.calculate_ot_cost()\n",
    "cost = \"{:.2f}\".format(float(cost))\n",
    "\n",
    "if SAVE:\n",
    "    saveDataset(data['1'],label['1'], f'data_1_{cost}')\n",
    "    saveDataset(data['2'],label['2'], f'data_2_{cost}')"
   ]
  },
  {
   "cell_type": "code",
   "execution_count": 549,
   "metadata": {},
   "outputs": [
    {
     "name": "stdout",
     "output_type": "stream",
     "text": [
      "cost: 0.20\n"
     ]
    }
   ],
   "source": [
    "importlib.reload(ot)\n",
    "bias = 0.3\n",
    "frac_pos, frac_neg = 0.5*(1+bias), 0.5*(1-bias)\n",
    "d1, d2 = splitDataCredit(df_, frac_pos, frac_neg)\n",
    "data,  label = dictionaryCreater(d1, d2)\n",
    "data_, label_ = sampler(data, label)\n",
    "\n",
    "Credit_OTCost_label = ot.OTCost(DATASET, data_, label_)\n",
    "cost = Credit_OTCost_label.calculate_ot_cost()\n",
    "cost = \"{:.2f}\".format(float(cost))\n",
    "\n",
    "\n",
    "if SAVE:\n",
    "    saveDataset(data['1'],label['1'], f'data_1_{cost}')\n",
    "    saveDataset(data['2'],label['2'], f'data_2_{cost}')"
   ]
  },
  {
   "cell_type": "code",
   "execution_count": 560,
   "metadata": {},
   "outputs": [
    {
     "name": "stdout",
     "output_type": "stream",
     "text": [
      "cost: 0.30\n"
     ]
    }
   ],
   "source": [
    "importlib.reload(ot)\n",
    "bias = 0.55\n",
    "frac_pos, frac_neg = 0.5*(1+bias), 0.5*(1-bias)\n",
    "d1, d2 = splitDataCredit(df_, frac_pos, frac_neg)\n",
    "d2 = addNoise(d2, mean = 0, sigma = 1)\n",
    "data,  label = dictionaryCreater(d1, d2)\n",
    "data_, label_ = sampler(data, label)\n",
    "\n",
    "Credit_OTCost_label = ot.OTCost(DATASET, data_, label_)\n",
    "cost = Credit_OTCost_label.calculate_ot_cost()\n",
    "cost = \"{:.2f}\".format(float(cost))\n",
    "\n",
    "\n",
    "if SAVE:\n",
    "    saveDataset(data['1'],label['1'], f'data_1_{cost}')\n",
    "    saveDataset(data['2'],label['2'], f'data_2_{cost}')"
   ]
  },
  {
   "cell_type": "code",
   "execution_count": 554,
   "metadata": {},
   "outputs": [
    {
     "name": "stdout",
     "output_type": "stream",
     "text": [
      "cost: 0.40\n"
     ]
    }
   ],
   "source": [
    "importlib.reload(ot)\n",
    "bias = 0.89\n",
    "frac_pos, frac_neg = 0.5*(1+bias), 0.5*(1-bias)\n",
    "d1, d2 = splitDataCredit(df_, frac_pos, frac_neg)\n",
    "d2 = addNoise(d2, mean = 0, sigma = 2)\n",
    "data,  label = dictionaryCreater(d1, d2)\n",
    "data_, label_ = sampler(data, label)\n",
    "\n",
    "Credit_OTCost_label = ot.OTCost(DATASET, data_, label_)\n",
    "cost = Credit_OTCost_label.calculate_ot_cost()\n",
    "cost = \"{:.2f}\".format(float(cost))\n",
    "\n",
    "\n",
    "if SAVE:\n",
    "    saveDataset(data['1'],label['1'], f'data_1_{cost}')\n",
    "    saveDataset(data['2'],label['2'], f'data_2_{cost}')"
   ]
  }
 ],
 "metadata": {
  "kernelspec": {
   "display_name": "Python 3 (ipykernel)",
   "language": "python",
   "name": "python3"
  },
  "language_info": {
   "codemirror_mode": {
    "name": "ipython",
    "version": 3
   },
   "file_extension": ".py",
   "mimetype": "text/x-python",
   "name": "python",
   "nbconvert_exporter": "python",
   "pygments_lexer": "ipython3",
   "version": "3.10.10"
  }
 },
 "nbformat": 4,
 "nbformat_minor": 2
}
