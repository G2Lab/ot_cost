{
 "cells": [
  {
   "cell_type": "code",
   "execution_count": null,
   "metadata": {},
   "outputs": [],
   "source": [
    "global ROOT_DIR\n",
    "ROOT_DIR = '/gpfs/commons/groups/gursoy_lab/aelhussein/ot_cost/otcost_fl_rebase'"
   ]
  },
  {
   "cell_type": "code",
   "execution_count": 1,
   "metadata": {},
   "outputs": [],
   "source": [
    "import pandas as pd\n",
    "import numpy as np\n",
    "import sys\n",
    "sys.path.append(f'{ROOT_DIR}/code/helper/')\n",
    "sys.path.append(f'{ROOT_DIR}/code/Synthetic/')\n",
    "import OTCost as ot\n",
    "import KL as kl\n",
    "import dataCreator as dc\n",
    "import importlib\n",
    "import random\n",
    "from sklearn.utils import shuffle\n",
    "importlib.reload(ot)\n",
    "importlib.reload(kl)\n",
    "importlib.reload(dc)\n",
    "import seaborn as sns\n",
    "import matplotlib.pyplot as plt\n",
    "from sklearn.linear_model import LogisticRegression\n",
    "from sklearn import metrics\n",
    "from sklearn.model_selection import train_test_split\n",
    "from scipy import stats\n",
    "from scipy.special import kl_div"
   ]
  },
  {
   "cell_type": "markdown",
   "metadata": {},
   "source": [
    "## synthetic"
   ]
  },
  {
   "cell_type": "code",
   "execution_count": 2,
   "metadata": {},
   "outputs": [],
   "source": [
    "def loadData(name):\n",
    "    ##load data\n",
    "    X = pd.read_csv(f'{ROOT_DIR}/data/Synthetic/{name}.csv', sep = ' ', names = [i for i in range(13)])\n",
    "    \n",
    "    ##shuffle\n",
    "    X = X.sample(frac = 1)\n",
    "    return X.iloc[:,:-1]"
   ]
  },
  {
   "cell_type": "code",
   "execution_count": 6,
   "metadata": {},
   "outputs": [
    {
     "name": "stdout",
     "output_type": "stream",
     "text": [
      "0.3257481366449104\n",
      "0.7494640222967414\n",
      "1.571490531991267\n",
      "2.2325600110138426\n",
      "3.7813330118552937\n",
      "14.820490916355368\n",
      "4.622635657589123\n",
      "0.2398356356006185\n",
      "0.27033613749384644\n"
     ]
    }
   ],
   "source": [
    "costs = [0.0, 0.1, 0.2, 0.3, 0.4, 0.5, 0.6, 0.8, 1.0]\n",
    "for c in costs:\n",
    "    name1, name2 = f'data_1_{c}',f'data_2_{c}'\n",
    "    d1, d2 = loadData(name1), loadData(name2)\n",
    "    print(kl.KLdivergence(d1, d2))"
   ]
  },
  {
   "cell_type": "markdown",
   "metadata": {},
   "source": [
    "## credit"
   ]
  },
  {
   "cell_type": "code",
   "execution_count": 7,
   "metadata": {},
   "outputs": [],
   "source": [
    "def loadData(name):\n",
    "    ##load data\n",
    "    X = pd.read_csv(f'{ROOT_DIR}/data/Credit/{name}.csv', sep = ' ', names = [i for i in range(29)])\n",
    "    ## shuffle\n",
    "    X = X.sample(frac = 1)\n",
    "    ##get X and label\n",
    "    y = X.iloc[:,-1]\n",
    "    X = X.iloc[:,:-1]\n",
    "    return X"
   ]
  },
  {
   "cell_type": "code",
   "execution_count": 8,
   "metadata": {},
   "outputs": [
    {
     "name": "stdout",
     "output_type": "stream",
     "text": [
      "0.885057105994966\n",
      "22.53975085126525\n",
      "63.67368710334389\n",
      "75.54392659350907\n"
     ]
    }
   ],
   "source": [
    "costs = [0.1, 0.2, 0.3, 0.4]\n",
    "for c in costs:\n",
    "    name1, name2 = f'data_1_{c}',f'data_2_{c}'\n",
    "    d1, d2 = loadData(name1), loadData(name2)\n",
    "    print(kl.KLdivergence(d1, d2))"
   ]
  },
  {
   "attachments": {},
   "cell_type": "markdown",
   "metadata": {},
   "source": [
    "## EMNIST"
   ]
  },
  {
   "cell_type": "code",
   "execution_count": 9,
   "metadata": {},
   "outputs": [],
   "source": [
    "from emnist import extract_training_samples\n",
    "images_full, labels_full = extract_training_samples('byclass')"
   ]
  },
  {
   "cell_type": "code",
   "execution_count": 10,
   "metadata": {},
   "outputs": [],
   "source": [
    "def pull_labels(images, labels, indices, size):\n",
    "    ##get indices for x, i\n",
    "    indices_x =  getIndices(indices[0], size)\n",
    "    indices_i =  getIndices(indices[1], size)\n",
    "\n",
    "\n",
    "    ##randomly permute and take fixed size of points\n",
    "    #np.random.seed(10)\n",
    "    indices_x = np.random.permutation(indices_x)\n",
    "    indices_i = np.random.permutation(indices_i)\n",
    "    \n",
    "    ind_1 = indices_x[:size]\n",
    "    ind_2 = indices_i[:size]\n",
    "\n",
    "    ##pull data and labels\n",
    "    X1 = images[ind_1] / 255\n",
    "    X2 = images[ind_2] / 255\n",
    "    y1 = labels[ind_1]\n",
    "    y2 = labels[ind_2]\n",
    "\n",
    "    ## reshape\n",
    "    X1 = X1.reshape((size, -1))\n",
    "    X2 = X2.reshape((size, -1))\n",
    "\n",
    "    return {\"1\": X1, \"2\": X2}, {\"1\":y1, \"2\":y2}"
   ]
  },
  {
   "cell_type": "code",
   "execution_count": 11,
   "metadata": {},
   "outputs": [],
   "source": [
    "def getIndices(indices, size):\n",
    "    ##get number of indices\n",
    "    num_ind = len(indices)\n",
    "    ##get number per label\n",
    "    num_per_label = int(size / num_ind) + 10\n",
    "    indices_use = []\n",
    "    ## loop through and pull indices\n",
    "    for ind in indices:\n",
    "        indices_use.extend(np.where(np.isin(labels_full, ind) == True)[0][:num_per_label])\n",
    "    return indices_use"
   ]
  },
  {
   "cell_type": "code",
   "execution_count": 12,
   "metadata": {},
   "outputs": [],
   "source": [
    "def sampler(data, label, num = 900):\n",
    "    data_, label_  = {}, {}\n",
    "    for i in data:\n",
    "        idx = np.random.choice(np.arange(data[i].shape[0]), num, replace=False)\n",
    "        data_[i] = data[i][idx]\n",
    "        label_[i] = label[i][idx].reshape(1,-1)[0]\n",
    "    return data_, label_"
   ]
  },
  {
   "cell_type": "code",
   "execution_count": 13,
   "metadata": {},
   "outputs": [
    {
     "name": "stdout",
     "output_type": "stream",
     "text": [
      "-25.16797905573468\n",
      "-2.200535772030796\n",
      "58.152498330046775\n",
      "275.90060866158063\n"
     ]
    }
   ],
   "source": [
    "indices =  [[[12,40], [12, 40]],\n",
    "            [[33, 30], [33, 56]],\n",
    "            [[33, 15, 11], [33, 41, 18]],\n",
    "            [[33, 21, 47, 29, 32], [59, 26, 52, 30, 31]]]\n",
    "for ind in indices:\n",
    "    data, label = pull_labels(images_full, labels_full, ind, size = 5000)\n",
    "    data_, label_ = sampler(data, label, num = 1000)\n",
    "    print(kl.KLdivergence(data_['1'], data_['2']))\n"
   ]
  },
  {
   "cell_type": "markdown",
   "metadata": {},
   "source": [
    "## exact estimate"
   ]
  },
  {
   "cell_type": "code",
   "execution_count": 14,
   "metadata": {},
   "outputs": [
    {
     "name": "stdout",
     "output_type": "stream",
     "text": [
      "cost: 0.8824724127\n"
     ]
    },
    {
     "ename": "ValueError",
     "evalue": "The following variable cannot be assigned with wide-form data: `hue`",
     "output_type": "error",
     "traceback": [
      "\u001b[0;31m---------------------------------------------------------------------------\u001b[0m",
      "\u001b[0;31mValueError\u001b[0m                                Traceback (most recent call last)",
      "Cell \u001b[0;32mIn[14], line 7\u001b[0m\n\u001b[1;32m      4\u001b[0m cost \u001b[39m=\u001b[39m ot\u001b[39m.\u001b[39mSynthetic_OTCost_label(data, label, private \u001b[39m=\u001b[39m \u001b[39mFalse\u001b[39;00m)\n\u001b[1;32m      6\u001b[0m \u001b[39mfor\u001b[39;00m i \u001b[39min\u001b[39;00m \u001b[39mrange\u001b[39m(\u001b[39m2\u001b[39m):\n\u001b[0;32m----> 7\u001b[0m     sns\u001b[39m.\u001b[39;49mkdeplot(data[\u001b[39m'\u001b[39;49m\u001b[39m2\u001b[39;49m\u001b[39m'\u001b[39;49m][:, i], hue \u001b[39m=\u001b[39;49m label[\u001b[39m'\u001b[39;49m\u001b[39m2\u001b[39;49m\u001b[39m'\u001b[39;49m])\n\u001b[1;32m      8\u001b[0m     plt\u001b[39m.\u001b[39mtitle(i)\n\u001b[1;32m      9\u001b[0m     plt\u001b[39m.\u001b[39mshow()\n",
      "File \u001b[0;32m~/anaconda3/envs/torch_env/lib/python3.10/site-packages/seaborn/distributions.py:1685\u001b[0m, in \u001b[0;36mkdeplot\u001b[0;34m(data, x, y, hue, weights, palette, hue_order, hue_norm, color, fill, multiple, common_norm, common_grid, cumulative, bw_method, bw_adjust, warn_singular, log_scale, levels, thresh, gridsize, cut, clip, legend, cbar, cbar_ax, cbar_kws, ax, **kwargs)\u001b[0m\n\u001b[1;32m   1681\u001b[0m levels \u001b[39m=\u001b[39m kwargs\u001b[39m.\u001b[39mpop(\u001b[39m\"\u001b[39m\u001b[39mn_levels\u001b[39m\u001b[39m\"\u001b[39m, levels)\n\u001b[1;32m   1683\u001b[0m \u001b[39m# - - - - - - - - - - - - - - - - - - - - - - - - - - - - - - - - - - - - #\u001b[39;00m\n\u001b[0;32m-> 1685\u001b[0m p \u001b[39m=\u001b[39m _DistributionPlotter(\n\u001b[1;32m   1686\u001b[0m     data\u001b[39m=\u001b[39;49mdata,\n\u001b[1;32m   1687\u001b[0m     variables\u001b[39m=\u001b[39;49m_DistributionPlotter\u001b[39m.\u001b[39;49mget_semantics(\u001b[39mlocals\u001b[39;49m()),\n\u001b[1;32m   1688\u001b[0m )\n\u001b[1;32m   1690\u001b[0m p\u001b[39m.\u001b[39mmap_hue(palette\u001b[39m=\u001b[39mpalette, order\u001b[39m=\u001b[39mhue_order, norm\u001b[39m=\u001b[39mhue_norm)\n\u001b[1;32m   1692\u001b[0m \u001b[39mif\u001b[39;00m ax \u001b[39mis\u001b[39;00m \u001b[39mNone\u001b[39;00m:\n",
      "File \u001b[0;32m~/anaconda3/envs/torch_env/lib/python3.10/site-packages/seaborn/distributions.py:113\u001b[0m, in \u001b[0;36m_DistributionPlotter.__init__\u001b[0;34m(self, data, variables)\u001b[0m\n\u001b[1;32m    107\u001b[0m \u001b[39mdef\u001b[39;00m \u001b[39m__init__\u001b[39m(\n\u001b[1;32m    108\u001b[0m     \u001b[39mself\u001b[39m,\n\u001b[1;32m    109\u001b[0m     data\u001b[39m=\u001b[39m\u001b[39mNone\u001b[39;00m,\n\u001b[1;32m    110\u001b[0m     variables\u001b[39m=\u001b[39m{},\n\u001b[1;32m    111\u001b[0m ):\n\u001b[0;32m--> 113\u001b[0m     \u001b[39msuper\u001b[39;49m()\u001b[39m.\u001b[39;49m\u001b[39m__init__\u001b[39;49m(data\u001b[39m=\u001b[39;49mdata, variables\u001b[39m=\u001b[39;49mvariables)\n",
      "File \u001b[0;32m~/anaconda3/envs/torch_env/lib/python3.10/site-packages/seaborn/_oldcore.py:640\u001b[0m, in \u001b[0;36mVectorPlotter.__init__\u001b[0;34m(self, data, variables)\u001b[0m\n\u001b[1;32m    635\u001b[0m \u001b[39m# var_ordered is relevant only for categorical axis variables, and may\u001b[39;00m\n\u001b[1;32m    636\u001b[0m \u001b[39m# be better handled by an internal axis information object that tracks\u001b[39;00m\n\u001b[1;32m    637\u001b[0m \u001b[39m# such information and is set up by the scale_* methods. The analogous\u001b[39;00m\n\u001b[1;32m    638\u001b[0m \u001b[39m# information for numeric axes would be information about log scales.\u001b[39;00m\n\u001b[1;32m    639\u001b[0m \u001b[39mself\u001b[39m\u001b[39m.\u001b[39m_var_ordered \u001b[39m=\u001b[39m {\u001b[39m\"\u001b[39m\u001b[39mx\u001b[39m\u001b[39m\"\u001b[39m: \u001b[39mFalse\u001b[39;00m, \u001b[39m\"\u001b[39m\u001b[39my\u001b[39m\u001b[39m\"\u001b[39m: \u001b[39mFalse\u001b[39;00m}  \u001b[39m# alt., used DefaultDict\u001b[39;00m\n\u001b[0;32m--> 640\u001b[0m \u001b[39mself\u001b[39;49m\u001b[39m.\u001b[39;49massign_variables(data, variables)\n\u001b[1;32m    642\u001b[0m \u001b[39mfor\u001b[39;00m var, \u001b[39mcls\u001b[39m \u001b[39min\u001b[39;00m \u001b[39mself\u001b[39m\u001b[39m.\u001b[39m_semantic_mappings\u001b[39m.\u001b[39mitems():\n\u001b[1;32m    643\u001b[0m \n\u001b[1;32m    644\u001b[0m     \u001b[39m# Create the mapping function\u001b[39;00m\n\u001b[1;32m    645\u001b[0m     map_func \u001b[39m=\u001b[39m partial(\u001b[39mcls\u001b[39m\u001b[39m.\u001b[39mmap, plotter\u001b[39m=\u001b[39m\u001b[39mself\u001b[39m)\n",
      "File \u001b[0;32m~/anaconda3/envs/torch_env/lib/python3.10/site-packages/seaborn/_oldcore.py:696\u001b[0m, in \u001b[0;36mVectorPlotter.assign_variables\u001b[0;34m(self, data, variables)\u001b[0m\n\u001b[1;32m    694\u001b[0m \u001b[39mif\u001b[39;00m x \u001b[39mis\u001b[39;00m \u001b[39mNone\u001b[39;00m \u001b[39mand\u001b[39;00m y \u001b[39mis\u001b[39;00m \u001b[39mNone\u001b[39;00m:\n\u001b[1;32m    695\u001b[0m     \u001b[39mself\u001b[39m\u001b[39m.\u001b[39minput_format \u001b[39m=\u001b[39m \u001b[39m\"\u001b[39m\u001b[39mwide\u001b[39m\u001b[39m\"\u001b[39m\n\u001b[0;32m--> 696\u001b[0m     plot_data, variables \u001b[39m=\u001b[39m \u001b[39mself\u001b[39;49m\u001b[39m.\u001b[39;49m_assign_variables_wideform(\n\u001b[1;32m    697\u001b[0m         data, \u001b[39m*\u001b[39;49m\u001b[39m*\u001b[39;49mvariables,\n\u001b[1;32m    698\u001b[0m     )\n\u001b[1;32m    699\u001b[0m \u001b[39melse\u001b[39;00m:\n\u001b[1;32m    700\u001b[0m     \u001b[39mself\u001b[39m\u001b[39m.\u001b[39minput_format \u001b[39m=\u001b[39m \u001b[39m\"\u001b[39m\u001b[39mlong\u001b[39m\u001b[39m\"\u001b[39m\n",
      "File \u001b[0;32m~/anaconda3/envs/torch_env/lib/python3.10/site-packages/seaborn/_oldcore.py:745\u001b[0m, in \u001b[0;36mVectorPlotter._assign_variables_wideform\u001b[0;34m(self, data, **kwargs)\u001b[0m\n\u001b[1;32m    743\u001b[0m     err \u001b[39m=\u001b[39m \u001b[39mf\u001b[39m\u001b[39m\"\u001b[39m\u001b[39mThe following variable\u001b[39m\u001b[39m{\u001b[39;00ms\u001b[39m}\u001b[39;00m\u001b[39m cannot be assigned with wide-form data: \u001b[39m\u001b[39m\"\u001b[39m\n\u001b[1;32m    744\u001b[0m     err \u001b[39m+\u001b[39m\u001b[39m=\u001b[39m \u001b[39m\"\u001b[39m\u001b[39m, \u001b[39m\u001b[39m\"\u001b[39m\u001b[39m.\u001b[39mjoin(\u001b[39mf\u001b[39m\u001b[39m\"\u001b[39m\u001b[39m`\u001b[39m\u001b[39m{\u001b[39;00mv\u001b[39m}\u001b[39;00m\u001b[39m`\u001b[39m\u001b[39m\"\u001b[39m \u001b[39mfor\u001b[39;00m v \u001b[39min\u001b[39;00m assigned)\n\u001b[0;32m--> 745\u001b[0m     \u001b[39mraise\u001b[39;00m \u001b[39mValueError\u001b[39;00m(err)\n\u001b[1;32m    747\u001b[0m \u001b[39m# Determine if the data object actually has any data in it\u001b[39;00m\n\u001b[1;32m    748\u001b[0m empty \u001b[39m=\u001b[39m data \u001b[39mis\u001b[39;00m \u001b[39mNone\u001b[39;00m \u001b[39mor\u001b[39;00m \u001b[39mnot\u001b[39;00m \u001b[39mlen\u001b[39m(data)\n",
      "\u001b[0;31mValueError\u001b[0m: The following variable cannot be assigned with wide-form data: `hue`"
     ]
    }
   ],
   "source": [
    "##create data\n",
    "data, label = dc.non_iid_creator2D(1)\n",
    "## calculate cost\n",
    "cost = ot.Synthetic_OTCost_label(data, label, private = False)\n",
    "\n",
    "for i in range(2):\n",
    "    sns.kdeplot(data['2'][:, i], hue = label['2'])\n",
    "    plt.title(i)\n",
    "    plt.show()"
   ]
  },
  {
   "cell_type": "code",
   "execution_count": 15,
   "metadata": {},
   "outputs": [],
   "source": [
    "def run_test(data, label):\n",
    "    # train from d2 and test 1\n",
    "    X_train1, X_test, y_train1, y_test = train_test_split(data['2'],label['2'], test_size = 0.3, random_state=1)\n",
    "    X_train2, _, y_train2, _ = train_test_split(data['1'],label['1'], test_size = 0.3, random_state=1)\n",
    "\n",
    "    X_train = np.concatenate((X_train1, X_train2))\n",
    "    y_train = np.concatenate((y_train1, y_train2))\n",
    "    \n",
    "    # run basic LR\n",
    "    clf = LogisticRegression(random_state=0).fit(X_train, y_train)\n",
    "    pred = clf.predict_proba(X_test)[:,1]\n",
    "    fpr, tpr, _ = metrics.roc_curve(y_test, pred)\n",
    "    d2 = metrics.auc(fpr, tpr)\n",
    "\n",
    "    return d1, d2"
   ]
  },
  {
   "cell_type": "code",
   "execution_count": 16,
   "metadata": {},
   "outputs": [],
   "source": [
    "def kl_calc(data):\n",
    "    kernel_p =  stats.gaussian_kde(data['1'].T)\n",
    "    kernel_q =  stats.gaussian_kde(data['2'].T)\n",
    "    p_x = kernel_p(data['1'].T)\n",
    "    q_x = kernel_q(data['2'].T)\n",
    "    return kl_div(p_x, q_x).sum()"
   ]
  },
  {
   "cell_type": "code",
   "execution_count": 17,
   "metadata": {},
   "outputs": [],
   "source": [
    "def grapher(df, cost, path, save = False):\n",
    "    sns.lineplot( x= df[cost], y =df['AUC'], alpha = 0.8, marker = 'o', label = f'{cost}')\n",
    "    plt.xlabel('cost')\n",
    "    plt.ylabel(f'AUC')\n",
    "    plt.legend()\n",
    "    plt.title(f'{cost} cost vs. Test set AUC')\n",
    "    if save == True:\n",
    "        plt.savefig(f'{path}{cost}.pdf')\n",
    "    plt.show()"
   ]
  },
  {
   "cell_type": "code",
   "execution_count": 18,
   "metadata": {},
   "outputs": [],
   "source": [
    "def saveDataset(data, label, name1, name2):\n",
    "    d1= np.concatenate((data['1'], label['1'].reshape(-1,1)), axis=1)\n",
    "    np.savetxt(f'{ROOT_DIR}/data/kl_div/{name1}.csv',d1)\n",
    "\n",
    "    d2= np.concatenate((data['2'], label['2'].reshape(-1,1)), axis=1)\n",
    "    np.savetxt(f'{ROOT_DIR}/data/kl_div/{name2}.csv',d2)\n",
    "    return"
   ]
  },
  {
   "cell_type": "code",
   "execution_count": 19,
   "metadata": {},
   "outputs": [
    {
     "name": "stdout",
     "output_type": "stream",
     "text": [
      "cost: 0.0039156384\n",
      "cost: 0.0281199336\n",
      "cost: 0.1399792552\n",
      "cost: 0.2012633715\n",
      "cost: 0.3401497757\n",
      "cost: 0.4217112737\n",
      "cost: 0.5215273559\n",
      "cost: 0.6107357926\n",
      "cost: 0.6815927147\n",
      "cost: 0.7900102537\n",
      "cost: 0.8824724127\n"
     ]
    }
   ],
   "source": [
    "fracs = [0, 0.1, 0.2, 0.3, 0.4, 0.5, 0.6, 0.7, 0.8, 0.9, 1]\n",
    "results = {'OT': [], 'KL': [], \"AUC\": []}\n",
    "for i in fracs:\n",
    "    ##create data\n",
    "    data, label = dc.non_iid_creator2D(i)\n",
    "    ## calculate cost\n",
    "    results['OT'].append(ot.Synthetic_OTCost_label(data, label, private = False))\n",
    "    results['KL'].append(kl_calc(data))\n",
    "    _, auc_d2 = run_test(data, label)\n",
    "    results['AUC'].append(auc_d2)\n",
    "    saveDataset(data, label, f'd1_{i}', f'd2_{i}')\n"
   ]
  },
  {
   "cell_type": "code",
   "execution_count": 21,
   "metadata": {},
   "outputs": [],
   "source": [
    "df = pd.DataFrame.from_dict(results)\n",
    "df.to_csv(f'{ROOT_DIR}/results/kl_div/results.csv', index = False)"
   ]
  },
  {
   "cell_type": "code",
   "execution_count": 24,
   "metadata": {},
   "outputs": [
    {
     "data": {
      "image/png": "[encoded data removed]",
      "text/plain": [
       "<Figure size 640x480 with 1 Axes>"
      ]
     },
     "metadata": {},
     "output_type": "display_data"
    }
   ],
   "source": [
    "path = f'{ROOT_DIR}/results/kl_div/'\n",
    "grapher(df, 'OT', path, save = True)"
   ]
  },
  {
   "cell_type": "code",
   "execution_count": 25,
   "metadata": {},
   "outputs": [
    {
     "data": {
      "image/png": "[encoded data removed]",
      "text/plain": [
       "<Figure size 640x480 with 1 Axes>"
      ]
     },
     "metadata": {},
     "output_type": "display_data"
    }
   ],
   "source": [
    "grapher(df, 'KL', path, save = True)"
   ]
  }
 ],
 "metadata": {
  "kernelspec": {
   "display_name": "Python 3 (ipykernel)",
   "language": "python",
   "name": "python3"
  },
  "language_info": {
   "codemirror_mode": {
    "name": "ipython",
    "version": 3
   },
   "file_extension": ".py",
   "mimetype": "text/x-python",
   "name": "python",
   "nbconvert_exporter": "python",
   "pygments_lexer": "ipython3",
   "version": "3.10.10"
  },
  "vscode": {
   "interpreter": {
    "hash": "281ef65c9cd9845e433bbe5d993e687d8475d676fe0ca3b169ee321bb12e4821"
   }
  }
 },
 "nbformat": 4,
 "nbformat_minor": 2
}
