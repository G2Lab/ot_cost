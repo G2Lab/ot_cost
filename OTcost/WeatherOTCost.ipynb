{
 "cells": [
  {
   "cell_type": "code",
   "execution_count": 19,
   "metadata": {},
   "outputs": [],
   "source": [
    "global ROOT_DIR\n",
    "ROOT_DIR = '/gpfs/commons/groups/gursoy_lab/aelhussein/ot_cost/otcost_fl_rebase'\n",
    "DATA_DIR = f'{ROOT_DIR}/data/Weather'"
   ]
  },
  {
   "cell_type": "code",
   "execution_count": 20,
   "metadata": {},
   "outputs": [],
   "source": [
    "import pandas as pd\n",
    "import numpy as np\n",
    "import copy\n",
    "import sys\n",
    "sys.path.append(f'{ROOT_DIR}/code/helper/')\n",
    "import OTCost as ot\n",
    "import importlib\n",
    "importlib.reload(ot)\n",
    "from sklearn.preprocessing import StandardScaler\n",
    "SEED = 1\n",
    "np.random.seed(SEED)"
   ]
  },
  {
   "cell_type": "code",
   "execution_count": 3,
   "metadata": {},
   "outputs": [],
   "source": [
    "def extractData(df, climates, n=5000):\n",
    "    df = df[df['climate'].isin(climates)]\n",
    "    ind = np.random.choice(df.shape[0], n)\n",
    "    X = df.iloc[ind, 6:]\n",
    "    y = df.iloc[ind, 3:6:2]\n",
    "    return X.values, y.values"
   ]
  },
  {
   "cell_type": "code",
   "execution_count": 4,
   "metadata": {},
   "outputs": [],
   "source": [
    "def dictionaryCreator(df, climates, n = 5000):\n",
    "    ##wrangle to dictionary for OT cost calculation\n",
    "    X1, y1 = extractData(df, climates[0],n = n)\n",
    "    scaler = StandardScaler()\n",
    "    X1_normalized = scaler.fit_transform(X1)   \n",
    "    X2, y2 = extractData(df, climates[1],n = n)\n",
    "    X2_normalized = scaler.transform(X2)  \n",
    "   \n",
    "    data, label = {\"1\": X1_normalized, \"2\": X2_normalized}, {\"1\": y1, \"2\": y2}\n",
    "    return data, label"
   ]
  },
  {
   "cell_type": "code",
   "execution_count": 5,
   "metadata": {},
   "outputs": [],
   "source": [
    "def addNoise(data, mean = 0, sigma = 1):\n",
    "    n,k = data.shape[0], data.shape[1]\n",
    "    noise = np.random.normal(mean, sigma, size = n*k).reshape(n,k)\n",
    "    data_ = copy.deepcopy(data)\n",
    "    data_ += noise\n",
    "    return data_"
   ]
  },
  {
   "cell_type": "code",
   "execution_count": 6,
   "metadata": {},
   "outputs": [],
   "source": [
    "def sampler(data, label,num = 2000):\n",
    "    data_, label_  = {}, {}\n",
    "    for i in data:\n",
    "        idx = np.random.choice(np.arange(data[i].shape[0]), num, replace=False)\n",
    "        data_[i] = data[i][idx]\n",
    "        label_[i] = label[i][idx, 1]\n",
    "    return data_, label_"
   ]
  },
  {
   "cell_type": "code",
   "execution_count": 7,
   "metadata": {},
   "outputs": [],
   "source": [
    "def saveDataset(X,y, name):\n",
    "    d1= np.concatenate((X, y[:,0].reshape(-1,1)), axis=1)\n",
    "    np.savetxt(f'{DATA_DIR}/{name}.csv',d1)\n",
    "    return"
   ]
  },
  {
   "attachments": {},
   "cell_type": "markdown",
   "metadata": {},
   "source": [
    "## load data"
   ]
  },
  {
   "cell_type": "code",
   "execution_count": 82,
   "metadata": {},
   "outputs": [],
   "source": [
    "##load dataset\n",
    "df = pd.read_csv(f'{DATA_DIR}/shifts_canonical_train.csv', nrows = 20000)\n",
    "df[((df['climate'] == 'tropical') & (df['fact_temperature'] > 25)) | \n",
    "    ((df['climate'] == 'mild temperate') & ((df['fact_temperature'] > 10) & (df['fact_temperature'] < 25))) |\n",
    "    (df['climate'] == 'dry') & ((df['fact_temperature'] > 5) & (df['fact_temperature'] < 25))]\n",
    "df_snow = pd.read_csv(f'{DATA_DIR}/shifts_canonical_eval_out.csv', nrows = 20000)\n",
    "df_snow = df_snow[df_snow['fact_temperature'] < 10]\n",
    "df = pd.concat([df, df_snow])\n",
    "df.dropna(inplace = True)"
   ]
  },
  {
   "attachments": {},
   "cell_type": "markdown",
   "metadata": {},
   "source": [
    "## OT cost (no labels as regression)"
   ]
  },
  {
   "cell_type": "code",
   "execution_count": 9,
   "metadata": {},
   "outputs": [],
   "source": [
    "DATASET = 'Weather'"
   ]
  },
  {
   "cell_type": "code",
   "execution_count": 83,
   "metadata": {},
   "outputs": [],
   "source": [
    "SAVE = False"
   ]
  },
  {
   "cell_type": "code",
   "execution_count": 93,
   "metadata": {},
   "outputs": [
    {
     "name": "stdout",
     "output_type": "stream",
     "text": [
      "cost: 0.11\n"
     ]
    }
   ],
   "source": [
    "importlib.reload(ot)\n",
    "climate1 = ['tropical', 'mild temperate']\n",
    "climate2 = ['tropical', 'mild temperate']\n",
    "data, label = dictionaryCreator(df, [climate1, climate2])\n",
    "data_, label_ = sampler(data,label)\n",
    "\n",
    "Weather_OTCost_label = ot.OTCost(DATASET, data_, label_)\n",
    "cost = Weather_OTCost_label.calculate_ot_cost()\n",
    "cost = \"{:.2f}\".format(float(cost))"
   ]
  },
  {
   "cell_type": "code",
   "execution_count": 95,
   "metadata": {},
   "outputs": [],
   "source": [
    "saveDataset(data['1'],label['1'], f'data_1_{cost}')\n",
    "saveDataset(data['2'],label['2'], f'data_2_{cost}')"
   ]
  },
  {
   "cell_type": "code",
   "execution_count": 122,
   "metadata": {},
   "outputs": [
    {
     "name": "stdout",
     "output_type": "stream",
     "text": [
      "cost: 0.10\n"
     ]
    }
   ],
   "source": [
    "importlib.reload(ot)\n",
    "climate1 = ['tropical', 'mild temperate']\n",
    "climate2 = ['tropical', 'mild temperate']\n",
    "data, label = dictionaryCreator(df, [climate1, climate2])\n",
    "data_, label_ = sampler(data,label)\n",
    "\n",
    "Weather_OTCost_label = ot.OTCost(DATASET, data_, label_)\n",
    "cost = Weather_OTCost_label.calculate_ot_cost()\n",
    "cost = \"{:.2f}\".format(float(cost))\n",
    "\n",
    "if SAVE:\n",
    "    saveDataset(data['1'],label['1'], f'data_1_{cost}')\n",
    "    saveDataset(data['2'],label['2'], f'data_2_{cost}')"
   ]
  },
  {
   "cell_type": "code",
   "execution_count": 97,
   "metadata": {},
   "outputs": [
    {
     "name": "stdout",
     "output_type": "stream",
     "text": [
      "cost: 0.19\n"
     ]
    }
   ],
   "source": [
    "importlib.reload(ot)\n",
    "importlib.reload(ot)\n",
    "climate1 = ['tropical', 'mild temperate']\n",
    "climate2 = ['dry', 'mild temperate']\n",
    "data, label = dictionaryCreator(df, [climate1, climate2])\n",
    "data_, label_ = sampler(data, label)\n",
    "\n",
    "Weather_OTCost_label = ot.OTCost(DATASET, data_, label_)\n",
    "cost = Weather_OTCost_label.calculate_ot_cost()\n",
    "cost = \"{:.2f}\".format(float(cost))"
   ]
  },
  {
   "cell_type": "code",
   "execution_count": 98,
   "metadata": {},
   "outputs": [],
   "source": [
    "saveDataset(data['1'],label['1'], f'data_1_{cost}')\n",
    "saveDataset(data['2'],label['2'], f'data_2_{cost}')"
   ]
  },
  {
   "cell_type": "code",
   "execution_count": 121,
   "metadata": {},
   "outputs": [
    {
     "name": "stdout",
     "output_type": "stream",
     "text": [
      "cost: 0.19\n"
     ]
    }
   ],
   "source": [
    "importlib.reload(ot)\n",
    "importlib.reload(ot)\n",
    "climate1 = ['tropical', 'mild temperate']\n",
    "climate2 = ['dry', 'mild temperate']\n",
    "data, label = dictionaryCreator(df, [climate1, climate2])\n",
    "data_, label_ = sampler(data, label)\n",
    "\n",
    "Weather_OTCost_label = ot.OTCost(DATASET, data_, label_)\n",
    "cost = Weather_OTCost_label.calculate_ot_cost()\n",
    "cost = \"{:.2f}\".format(float(cost))\n",
    "\n",
    "if SAVE:\n",
    "    saveDataset(data['1'],label['1'], f'data_1_{cost}')\n",
    "    saveDataset(data['2'],label['2'], f'data_2_{cost}')"
   ]
  },
  {
   "cell_type": "code",
   "execution_count": 100,
   "metadata": {},
   "outputs": [
    {
     "name": "stdout",
     "output_type": "stream",
     "text": [
      "cost: 0.30\n"
     ]
    }
   ],
   "source": [
    "importlib.reload(ot)\n",
    "importlib.reload(ot)\n",
    "climate1 = ['tropical', 'mild temperate']\n",
    "climate2 = ['dry']\n",
    "data, label = dictionaryCreator(df, [climate1, climate2])\n",
    "data_, label_ = sampler(data, label)\n",
    "\n",
    "Weather_OTCost_label = ot.OTCost(DATASET, data_, label_)\n",
    "cost = Weather_OTCost_label.calculate_ot_cost()\n",
    "cost = \"{:.2f}\".format(float(cost))"
   ]
  },
  {
   "cell_type": "code",
   "execution_count": 101,
   "metadata": {},
   "outputs": [],
   "source": [
    "saveDataset(data['1'],label['1'], f'data_1_{cost}')\n",
    "saveDataset(data['2'],label['2'], f'data_2_{cost}')"
   ]
  },
  {
   "cell_type": "code",
   "execution_count": 120,
   "metadata": {},
   "outputs": [
    {
     "name": "stdout",
     "output_type": "stream",
     "text": [
      "cost: 0.28\n"
     ]
    }
   ],
   "source": [
    "importlib.reload(ot)\n",
    "importlib.reload(ot)\n",
    "climate1 = ['tropical', 'mild temperate']\n",
    "climate2 = ['dry']\n",
    "data, label = dictionaryCreator(df, [climate1, climate2])\n",
    "data_, label_ = sampler(data, label)\n",
    "\n",
    "Weather_OTCost_label = ot.OTCost(DATASET, data_, label_)\n",
    "cost = Weather_OTCost_label.calculate_ot_cost()\n",
    "cost = \"{:.2f}\".format(float(cost))\n",
    "\n",
    "if SAVE:\n",
    "    saveDataset(data['1'],label['1'], f'data_1_{cost}')\n",
    "    saveDataset(data['2'],label['2'], f'data_2_{cost}')"
   ]
  },
  {
   "cell_type": "code",
   "execution_count": 102,
   "metadata": {},
   "outputs": [
    {
     "name": "stdout",
     "output_type": "stream",
     "text": [
      "cost: 0.40\n"
     ]
    }
   ],
   "source": [
    "importlib.reload(ot)\n",
    "importlib.reload(ot)\n",
    "climate1 = ['tropical', 'mild temperate']\n",
    "climate2 = ['dry', 'snow']\n",
    "data, label = dictionaryCreator(df, [climate1, climate2])\n",
    "data_, label_ = sampler(data, label)\n",
    "\n",
    "Weather_OTCost_label = ot.OTCost(DATASET, data_, label_)\n",
    "cost = Weather_OTCost_label.calculate_ot_cost()\n",
    "cost = \"{:.2f}\".format(float(cost))"
   ]
  },
  {
   "cell_type": "code",
   "execution_count": 103,
   "metadata": {},
   "outputs": [],
   "source": [
    "saveDataset(data['1'],label['1'], f'data_1_{cost}')\n",
    "saveDataset(data['2'],label['2'], f'data_2_{cost}')"
   ]
  },
  {
   "cell_type": "code",
   "execution_count": 119,
   "metadata": {},
   "outputs": [
    {
     "name": "stdout",
     "output_type": "stream",
     "text": [
      "cost: 0.38\n"
     ]
    }
   ],
   "source": [
    "importlib.reload(ot)\n",
    "importlib.reload(ot)\n",
    "climate1 = ['tropical', 'mild temperate']\n",
    "climate2 = ['dry', 'snow']\n",
    "data, label = dictionaryCreator(df, [climate1, climate2])\n",
    "data_, label_ = sampler(data, label)\n",
    "\n",
    "\n",
    "Weather_OTCost_label = ot.OTCost(DATASET, data_, label_)\n",
    "cost = Weather_OTCost_label.calculate_ot_cost()\n",
    "cost = \"{:.2f}\".format(float(cost))\n",
    "\n",
    "if SAVE:\n",
    "    saveDataset(data['1'],label['1'], f'data_1_{cost}')\n",
    "    saveDataset(data['2'],label['2'], f'data_2_{cost}')"
   ]
  },
  {
   "cell_type": "code",
   "execution_count": 108,
   "metadata": {},
   "outputs": [
    {
     "name": "stdout",
     "output_type": "stream",
     "text": [
      "cost: 0.48\n"
     ]
    }
   ],
   "source": [
    "importlib.reload(ot)\n",
    "importlib.reload(ot)\n",
    "climate1 = ['tropical', 'mild temperate']\n",
    "climate2 = ['snow']\n",
    "data, label = dictionaryCreator(df, [climate1, climate2])\n",
    "data_, label_ = sampler(data, label)\n",
    "\n",
    "Weather_OTCost_label = ot.OTCost(DATASET, data_, label_)\n",
    "cost = Weather_OTCost_label.calculate_ot_cost()\n",
    "cost = \"{:.2f}\".format(float(cost))\n"
   ]
  },
  {
   "cell_type": "code",
   "execution_count": 109,
   "metadata": {},
   "outputs": [],
   "source": [
    "saveDataset(data['1'],label['1'], f'data_1_{cost}')\n",
    "saveDataset(data['2'],label['2'], f'data_2_{cost}')"
   ]
  },
  {
   "cell_type": "code",
   "execution_count": 46,
   "metadata": {},
   "outputs": [
    {
     "name": "stdout",
     "output_type": "stream",
     "text": [
      "cost: 0.49\n"
     ]
    }
   ],
   "source": [
    "importlib.reload(ot)\n",
    "importlib.reload(ot)\n",
    "climate1 = ['tropical', 'mild temperate']\n",
    "climate2 = ['snow']\n",
    "data, label = dictionaryCreator(df, [climate1, climate2])\n",
    "data_, label_ = sampler(data, label)\n",
    "\n",
    "\n",
    "Weather_OTCost_label = ot.OTCost(DATASET, data_, label_)\n",
    "cost = Weather_OTCost_label.calculate_ot_cost()\n",
    "cost = \"{:.2f}\".format(float(cost))\n",
    "\n",
    "if SAVE:\n",
    "    saveDataset(data['1'],label['1'], f'data_1_{cost}')\n",
    "    saveDataset(data['2'],label['2'], f'data_2_{cost}')"
   ]
  }
 ],
 "metadata": {
  "kernelspec": {
   "display_name": "Python 3 (ipykernel)",
   "language": "python",
   "name": "python3"
  }
 },
 "nbformat": 4,
 "nbformat_minor": 2
}
