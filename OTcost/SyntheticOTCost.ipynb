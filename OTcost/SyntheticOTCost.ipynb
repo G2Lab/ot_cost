{
 "cells": [
  {
   "cell_type": "code",
   "execution_count": 1,
   "id": "c1d637cb",
   "metadata": {},
   "outputs": [],
   "source": [
    "global ROOT_DIR\n",
    "ROOT_DIR = '/gpfs/commons/groups/gursoy_lab/aelhussein/ot_cost/otcost_fl_rebase'"
   ]
  },
  {
   "cell_type": "code",
   "execution_count": 14,
   "id": "46ab09d5",
   "metadata": {},
   "outputs": [],
   "source": [
    "import numpy as np\n",
    "import sys\n",
    "sys.path.append(f'{ROOT_DIR}/code/helper/')\n",
    "sys.path.append(f'{ROOT_DIR}/code/OTcost/')\n",
    "import OTCost as ot\n",
    "import dataCreator as dc\n",
    "import importlib\n",
    "importlib.reload(ot)\n",
    "importlib.reload(dc)\n",
    "import warnings\n",
    "warnings.filterwarnings(\"default\", category=UserWarning)\n"
   ]
  },
  {
   "cell_type": "code",
   "execution_count": 4,
   "id": "e4312b16",
   "metadata": {},
   "outputs": [],
   "source": [
    "nfeatures = 12\n",
    "size = 2000\n",
    "private =  False\n",
    "DATASET = 'Synthetic'"
   ]
  },
  {
   "cell_type": "markdown",
   "id": "bb087035",
   "metadata": {},
   "source": [
    "## create data OT cost 0-0.5"
   ]
  },
  {
   "cell_type": "code",
   "execution_count": null,
   "id": "bba953e9",
   "metadata": {},
   "outputs": [
    {
     "name": "stdout",
     "output_type": "stream",
     "text": [
      "cost: 0.03\n"
     ]
    }
   ],
   "source": [
    "## 0.03\n",
    "importlib.reload(ot)\n",
    "importlib.reload(dc)\n",
    "##create data\n",
    "data, label = dc.non_iid_creator(0)\n",
    "## calculate cost\n",
    "Synthetic_OTCost_label = ot.OTCost(DATASET, data, label)\n",
    "cost = Synthetic_OTCost_label.calculate_ot_cost()\n",
    "cost = \"{:.2f}\".format(float(cost))\n",
    "\n",
    "##save data\n",
    "dc.saveDataset(data['1'],label['1'], f'data_1_{cost}')\n",
    "dc.saveDataset(data['2'],label['2'], f'data_2_{cost}')"
   ]
  },
  {
   "cell_type": "code",
   "execution_count": 511,
   "id": "6d772dad",
   "metadata": {},
   "outputs": [
    {
     "name": "stdout",
     "output_type": "stream",
     "text": [
      "cost: 0.10\n"
     ]
    }
   ],
   "source": [
    "## 0.1\n",
    "importlib.reload(ot)\n",
    "importlib.reload(dc)\n",
    "##create data\n",
    "data, label = dc.non_iid_creator(0.15)\n",
    "## calculate cost\n",
    "Synthetic_OTCost_label = ot.OTCost(DATASET, data, label)\n",
    "cost = Synthetic_OTCost_label.calculate_ot_cost()\n",
    "cost = \"{:.2f}\".format(float(cost))\n",
    "\n",
    "##save data\n",
    "dc.saveDataset(data['1'],label['1'], f'data_1_{cost}')\n",
    "dc.saveDataset(data['2'],label['2'], f'data_2_{cost}')"
   ]
  },
  {
   "cell_type": "code",
   "execution_count": 514,
   "id": "d93f046f",
   "metadata": {},
   "outputs": [
    {
     "name": "stdout",
     "output_type": "stream",
     "text": [
      "cost: 0.20\n"
     ]
    }
   ],
   "source": [
    "## 0.2\n",
    "importlib.reload(ot)\n",
    "importlib.reload(dc)\n",
    "##create data\n",
    "data, label = dc.non_iid_creator(0.35)\n",
    "## calculate cost\n",
    "Synthetic_OTCost_label = ot.OTCost(DATASET, data, label)\n",
    "cost = Synthetic_OTCost_label.calculate_ot_cost()\n",
    "cost = \"{:.2f}\".format(float(cost))\n",
    "\n",
    "##save data\n",
    "dc.saveDataset(data['1'],label['1'], f'data_1_{cost}')\n",
    "dc.saveDataset(data['2'],label['2'], f'data_2_{cost}')"
   ]
  },
  {
   "cell_type": "code",
   "execution_count": 519,
   "id": "4aa5ad08",
   "metadata": {},
   "outputs": [
    {
     "name": "stdout",
     "output_type": "stream",
     "text": [
      "cost: 0.30\n"
     ]
    }
   ],
   "source": [
    "## 0.3\n",
    "importlib.reload(ot)\n",
    "importlib.reload(dc)\n",
    "##create data\n",
    "data, label = dc.non_iid_creator(0.57)\n",
    "## calculate cost\n",
    "Synthetic_OTCost_label = ot.OTCost(DATASET, data, label)\n",
    "cost = Synthetic_OTCost_label.calculate_ot_cost()\n",
    "cost = \"{:.2f}\".format(float(cost))\n",
    "\n",
    "##save data\n",
    "dc.saveDataset(data['1'],label['1'], f'data_1_{cost}')\n",
    "dc.saveDataset(data['2'],label['2'], f'data_2_{cost}')"
   ]
  },
  {
   "cell_type": "code",
   "execution_count": 523,
   "id": "f0f366ca",
   "metadata": {},
   "outputs": [
    {
     "name": "stdout",
     "output_type": "stream",
     "text": [
      "cost: 0.40\n"
     ]
    }
   ],
   "source": [
    "## 0.4\n",
    "importlib.reload(ot)\n",
    "importlib.reload(dc)\n",
    "##create data\n",
    "data, label = dc.non_iid_creator(0.75)\n",
    "## calculate cost\n",
    "Synthetic_OTCost_label = ot.OTCost(DATASET, data, label)\n",
    "cost = Synthetic_OTCost_label.calculate_ot_cost()\n",
    "cost = \"{:.2f}\".format(float(cost))\n",
    "\n",
    "##save data\n",
    "dc.saveDataset(data['1'],label['1'], f'data_1_{cost}')\n",
    "dc.saveDataset(data['2'],label['2'], f'data_2_{cost}')"
   ]
  },
  {
   "cell_type": "code",
   "execution_count": 525,
   "id": "6faec452",
   "metadata": {},
   "outputs": [
    {
     "name": "stdout",
     "output_type": "stream",
     "text": [
      "cost: 0.50\n"
     ]
    }
   ],
   "source": [
    "## 0.5\n",
    "importlib.reload(ot)\n",
    "importlib.reload(dc)\n",
    "##create data\n",
    "data, label = dc.non_iid_creator(0.89)\n",
    "## calculate cost\n",
    "Synthetic_OTCost_label = ot.OTCost(DATASET, data, label)\n",
    "cost = Synthetic_OTCost_label.calculate_ot_cost()\n",
    "cost = \"{:.2f}\".format(float(cost))\n",
    "\n",
    "##save data\n",
    "dc.saveDataset(data['1'],label['1'], f'data_1_{cost}')\n",
    "dc.saveDataset(data['2'],label['2'], f'data_2_{cost}')"
   ]
  },
  {
   "cell_type": "code",
   "execution_count": 528,
   "id": "31f857a6",
   "metadata": {},
   "outputs": [
    {
     "name": "stdout",
     "output_type": "stream",
     "text": [
      "cost: 0.60\n"
     ]
    }
   ],
   "source": [
    "## 0.6\n",
    "importlib.reload(ot)\n",
    "importlib.reload(dc)\n",
    "##create data\n",
    "data, label = dc.non_iid_creator(0.98)\n",
    "## calculate cost\n",
    "Synthetic_OTCost_label = ot.OTCost(DATASET, data, label)\n",
    "cost = Synthetic_OTCost_label.calculate_ot_cost()\n",
    "cost = \"{:.2f}\".format(float(cost))\n",
    "\n",
    "##save data\n",
    "dc.saveDataset(data['1'],label['1'], f'data_1_{cost}')\n",
    "dc.saveDataset(data['2'],label['2'], f'data_2_{cost}')"
   ]
  },
  {
   "cell_type": "markdown",
   "metadata": {},
   "source": [
    "# Additional estimates for reviewer"
   ]
  },
  {
   "cell_type": "code",
   "execution_count": 4,
   "metadata": {},
   "outputs": [
    {
     "name": "stdout",
     "output_type": "stream",
     "text": [
      "cost: 0.00\n"
     ]
    }
   ],
   "source": [
    "## IDENTICAL DATASETS\n",
    "importlib.reload(ot)\n",
    "importlib.reload(dc)\n",
    "##create data\n",
    "data, label = dc.non_iid_creator(0)\n",
    "data = {'1': data['1'], '2': data['1']}\n",
    "label = {'1': label['1'], '2': label['1']}\n",
    "## calculate cost\n",
    "Synthetic_OTCost_label = ot.OTCost(DATASET, data, label)\n",
    "cost = Synthetic_OTCost_label.calculate_ot_cost()\n",
    "cost = \"{:.2f}\".format(float(cost))"
   ]
  },
  {
   "cell_type": "code",
   "execution_count": 15,
   "metadata": {},
   "outputs": [
    {
     "name": "stdout",
     "output_type": "stream",
     "text": [
      "cost: 0.01\n"
     ]
    },
    {
     "name": "stderr",
     "output_type": "stream",
     "text": [
      "/gpfs/commons/home/aelhussein/anaconda3/envs/torch_env/lib/python3.10/site-packages/ot/bregman.py:1112: UserWarning: Sinkhorn did not converge. You might want to increase the number of iterations `numItermax` or the regularization parameter `reg`.\n",
      "  warnings.warn(\"Sinkhorn did not converge. You might want to \"\n"
     ]
    }
   ],
   "source": [
    "## SUBSAMPLED DATASETS\n",
    "importlib.reload(ot)\n",
    "importlib.reload(dc)\n",
    "##create data\n",
    "data, label = dc.non_iid_creator(0)\n",
    "subset_size = int(0.5 * len(data['1'])) \n",
    "data['2'] = data['1'][:subset_size] \n",
    "label['2'] = label['1'][:subset_size] \n",
    "## calculate cost\n",
    "Synthetic_OTCost_label = ot.OTCost(DATASET, data, label)\n",
    "cost = Synthetic_OTCost_label.calculate_ot_cost()\n",
    "cost = \"{:.2f}\".format(float(cost))"
   ]
  },
  {
   "cell_type": "code",
   "execution_count": 21,
   "metadata": {},
   "outputs": [
    {
     "name": "stdout",
     "output_type": "stream",
     "text": [
      "cost: 0.02\n"
     ]
    }
   ],
   "source": [
    "## OPPOSITE LABELS\n",
    "importlib.reload(ot)\n",
    "importlib.reload(dc)\n",
    "##create data\n",
    "data, label = dc.non_iid_creator(0)\n",
    "label['2'] = 1 - label['2']\n",
    "## calculate cost\n",
    "Synthetic_OTCost_label = ot.OTCost(DATASET, data, label)\n",
    "cost = Synthetic_OTCost_label.calculate_ot_cost()\n",
    "cost = \"{:.2f}\".format(float(cost))"
   ]
  }
 ],
 "metadata": {
  "kernelspec": {
   "display_name": "Python 3 (ipykernel)",
   "language": "python",
   "name": "python3"
  },
  "language_info": {
   "codemirror_mode": {
    "name": "ipython",
    "version": 3
   },
   "file_extension": ".py",
   "mimetype": "text/x-python",
   "name": "python",
   "nbconvert_exporter": "python",
   "pygments_lexer": "ipython3",
   "version": "3.10.10"
  }
 },
 "nbformat": 4,
 "nbformat_minor": 5
}
