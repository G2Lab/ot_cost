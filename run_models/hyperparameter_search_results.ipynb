{
 "cells": [
  {
   "cell_type": "code",
   "execution_count": 1,
   "metadata": {},
   "outputs": [],
   "source": [
    "ROOT_DIR = '/gpfs/commons/groups/gursoy_lab/aelhussein/ot_cost/otcost_fl_rebase'\n",
    "import pandas as pd\n",
    "import sys\n",
    "import numpy as np\n",
    "import pickle\n",
    "import matplotlib.pyplot as plt\n",
    "import seaborn as sns\n",
    "from scipy.stats import bootstrap"
   ]
  },
  {
   "cell_type": "code",
   "execution_count": 2,
   "metadata": {},
   "outputs": [],
   "source": [
    "def load_results(DATASET):\n",
    "    with open(f'{ROOT_DIR}/results/{DATASET}_hyperparameter_search.pkl', 'rb') as f :\n",
    "        results = pickle.load(f)\n",
    "    return results\n",
    "    \n",
    "def bootstrap_ci(data):\n",
    "    estimates = {}\n",
    "    for c in data:\n",
    "        estimates[c]={}\n",
    "        for arch in data[c]:\n",
    "            estimates[c][arch]={}\n",
    "            for optim in data[c][arch]:\n",
    "                estimates[c][arch][optim]={}\n",
    "                for lr in data[c][arch][optim]:\n",
    "                    res = data[c][arch][optim][lr]\n",
    "                    if len(res) == 1:\n",
    "                        res = [res[0] + np.random.normal(0,1e-5) for i in range(10)]\n",
    "                    mean = np.mean(res)\n",
    "                    bs_reps = bootstrap(np.array(res).reshape(1,-1), statistic=np.mean, n_resamples=1000)\n",
    "                    ci = bs_reps.confidence_interval[0:2]\n",
    "                    estimates[c][arch][optim][lr] = np.mean([mean, mean, mean, ci[0], ci[1]])\n",
    "    return estimates\n",
    "\n",
    "def best_parameters(results_estimates):\n",
    "    best_combinations = {}\n",
    "    for cost, architectures in results_estimates.items():\n",
    "        for architecture, optimizers in architectures.items():\n",
    "            best_value = -float('inf')\n",
    "            best_optimizer_lr = \"\"\n",
    "            for optimizer, lrs in optimizers.items():\n",
    "                for lr, value in lrs.items():\n",
    "                    if value > best_value:\n",
    "                        best_value = value\n",
    "                        best_optimizer_lr = f\"{optimizer}: {lr}: {value:.3f}\"\n",
    "            if cost not in best_combinations:\n",
    "                best_combinations[cost] = {}\n",
    "            best_combinations[cost][architecture] = best_optimizer_lr\n",
    "    return best_combinations\n",
    "\n",
    "def process_results(DATASET):\n",
    "    results = load_results(DATASET)\n",
    "    results_estimates = bootstrap_ci(results)\n",
    "    best_hyperparams = best_parameters(results_estimates)\n",
    "    return results_estimates, best_hyperparams"
   ]
  },
  {
   "cell_type": "markdown",
   "metadata": {},
   "source": [
    "### Synthetic"
   ]
  },
  {
   "cell_type": "code",
   "execution_count": 110,
   "metadata": {},
   "outputs": [],
   "source": [
    "DATASET = 'Synthetic'\n",
    "results_estimates, best_hyperparams = process_results(DATASET)"
   ]
  },
  {
   "cell_type": "markdown",
   "metadata": {},
   "source": [
    "### Credit"
   ]
  },
  {
   "cell_type": "code",
   "execution_count": 108,
   "metadata": {},
   "outputs": [],
   "source": [
    "DATASET = 'Credit'\n",
    "results_estimates, best_hyperparams = process_results(DATASET)"
   ]
  },
  {
   "cell_type": "markdown",
   "metadata": {},
   "source": [
    "### Weather"
   ]
  },
  {
   "cell_type": "code",
   "execution_count": 121,
   "metadata": {},
   "outputs": [],
   "source": [
    "DATASET = 'Weather'\n",
    "results_estimates, best_hyperparams = process_results(DATASET)"
   ]
  },
  {
   "cell_type": "markdown",
   "metadata": {},
   "source": [
    "### EMNIST"
   ]
  },
  {
   "cell_type": "code",
   "execution_count": 115,
   "metadata": {},
   "outputs": [],
   "source": [
    "DATASET = 'EMNIST'\n",
    "results_estimates, best_hyperparams = process_results(DATASET)"
   ]
  },
  {
   "cell_type": "markdown",
   "metadata": {},
   "source": [
    "### CIFAR"
   ]
  },
  {
   "cell_type": "code",
   "execution_count": 49,
   "metadata": {},
   "outputs": [],
   "source": [
    "DATASET = 'CIFAR'\n",
    "results_estimates, best_hyperparams = process_results(DATASET)"
   ]
  },
  {
   "cell_type": "markdown",
   "metadata": {},
   "source": [
    "### IXITiny"
   ]
  },
  {
   "cell_type": "code",
   "execution_count": 34,
   "metadata": {},
   "outputs": [],
   "source": [
    "DATASET = 'IXITiny'\n",
    "results_estimates, best_hyperparams = process_results(DATASET)"
   ]
  },
  {
   "cell_type": "markdown",
   "metadata": {},
   "source": [
    "### ISIC"
   ]
  },
  {
   "cell_type": "code",
   "execution_count": 5,
   "metadata": {},
   "outputs": [],
   "source": [
    "DATASET = 'ISIC'\n",
    "results_estimates, best_hyperparams = process_results(DATASET)"
   ]
  }
 ],
 "metadata": {
  "kernelspec": {
   "display_name": "Python 3 (ipykernel)",
   "language": "python",
   "name": "python3"
  },
  "language_info": {
   "codemirror_mode": {
    "name": "ipython",
    "version": 3
   },
   "file_extension": ".py",
   "mimetype": "text/x-python",
   "name": "python",
   "nbconvert_exporter": "python",
   "pygments_lexer": "ipython3",
   "version": "3.10.10"
  },
  "orig_nbformat": 4,
  "vscode": {
   "interpreter": {
    "hash": "31f2aee4e71d21fbe5cf8b01ff0e069b9275f58929596ceb00d14d90e3e16cd6"
   }
  }
 },
 "nbformat": 4,
 "nbformat_minor": 2
}
