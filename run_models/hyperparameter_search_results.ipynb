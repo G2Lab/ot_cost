{
 "cells": [
  {
   "cell_type": "code",
   "execution_count": null,
   "metadata": {},
   "outputs": [],
   "source": [
    "costs_dict = {'Synthetic': [0.03, 0.10, 0.20, 0.30, 0.40, 0.50],\n",
    "              'Credit': [0.12, 0.23, 0.30, 0.40],\n",
    "              'Weather': [0.11, 0.19, 0.30, 0.40, 0.48],\n",
    "              'EMNIST': [0.11, 0.19, 0.25, 0.34, 0.39],\n",
    "              'CIFAR': [0.08, 0.21, 0.3, 0.38], \n",
    "              'IXITiny': [0.08, 0.28, 0.30],\n",
    "              'ISIC': [0.06, 0.15, 0.19, 0.25, 0.3]\n",
    "              } "
   ]
  },
  {
   "cell_type": "code",
   "execution_count": 2,
   "metadata": {},
   "outputs": [],
   "source": [
    "ROOT_DIR = '/gpfs/commons/groups/gursoy_lab/aelhussein/ot_cost/otcost_fl_rebase'\n",
    "import pandas as pd\n",
    "import sys\n",
    "import numpy as np\n",
    "import pickle\n",
    "import matplotlib.pyplot as plt\n",
    "import seaborn as sns\n",
    "from scipy.stats import bootstrap"
   ]
  },
  {
   "cell_type": "code",
   "execution_count": 75,
   "metadata": {},
   "outputs": [],
   "source": [
    "def load_results(DATASET):\n",
    "    with open(f'{ROOT_DIR}/results/{DATASET}_hyperparameter_search.pkl', 'rb') as f :\n",
    "        results = pickle.load(f)\n",
    "    return results\n",
    "    \n",
    "def bootstrap_ci(data):\n",
    "    estimates = {}\n",
    "    for c in data:\n",
    "        estimates[c]={}\n",
    "        for arch in data[c]:\n",
    "            estimates[c][arch]={}\n",
    "            for optim in data[c][arch]:\n",
    "                estimates[c][arch][optim]={}\n",
    "                for lr in data[c][arch][optim]:\n",
    "                    res = data[c][arch][optim][lr]\n",
    "                    mean = np.mean(res)\n",
    "                    bs_reps = bootstrap(np.array(res).reshape(1,-1), statistic=np.mean, n_resamples=1000)\n",
    "                    ci = bs_reps.confidence_interval[0:2]\n",
    "                    estimates[c][arch][optim][lr] = np.mean([mean, mean, mean, ci[0], ci[1]])\n",
    "    return estimates\n",
    "\n",
    "def best_parameters(results_estimates):\n",
    "    best_combinations = {}\n",
    "    for cost, architectures in results_estimates.items():\n",
    "        for architecture, optimizers in architectures.items():\n",
    "            best_value = -float('inf')\n",
    "            best_optimizer_lr = \"\"\n",
    "            for optimizer, lrs in optimizers.items():\n",
    "                for lr, value in lrs.items():\n",
    "                    if value > best_value:\n",
    "                        best_value = value\n",
    "                        best_optimizer_lr = f\"{optimizer}: {lr}: {value:.3f}\"\n",
    "            if cost not in best_combinations:\n",
    "                best_combinations[cost] = {}\n",
    "            best_combinations[cost][architecture] = best_optimizer_lr\n",
    "    return best_combinations\n",
    "\n",
    "def process_results(DATASET):\n",
    "    results = load_results(DATASET)\n",
    "    results_estimates = bootstrap_ci(results)\n",
    "    best_hyperparams = best_parameters(results_estimates)\n",
    "    return results_estimates, best_hyperparams"
   ]
  },
  {
   "cell_type": "markdown",
   "metadata": {},
   "source": [
    "### Synthetic"
   ]
  },
  {
   "cell_type": "code",
   "execution_count": 86,
   "metadata": {},
   "outputs": [],
   "source": [
    "DATASET = 'Synthetic'\n",
    "results_estimates, best_hyperparams = process_results(DATASET)"
   ]
  },
  {
   "cell_type": "code",
   "execution_count": 87,
   "metadata": {},
   "outputs": [
    {
     "data": {
      "text/plain": [
       "{0.03: {'single': 'SGD: 0.05: 0.674',\n",
       "  'joint': 'ADM: 0.1: 0.675',\n",
       "  'federated': 'ADM: 0.05: 0.675',\n",
       "  'pfedme': 'ADM: 0.1: 0.654',\n",
       "  'ditto': 'ADM: 0.1: 0.655'},\n",
       " 0.1: {'single': 'ADM: 0.1: 0.668',\n",
       "  'joint': 'ADM: 0.05: 0.665',\n",
       "  'federated': 'ADM: 0.05: 0.672',\n",
       "  'pfedme': 'ADM: 0.1: 0.651',\n",
       "  'ditto': 'ADM: 0.1: 0.657'},\n",
       " 0.2: {'single': 'ADM: 0.1: 0.619',\n",
       "  'joint': 'ADM: 0.1: 0.678',\n",
       "  'federated': 'ADM: 0.1: 0.633',\n",
       "  'pfedme': 'ADM: 0.05: 0.626',\n",
       "  'ditto': 'ADM: 0.1: 0.621'},\n",
       " 0.3: {'single': 'ADM: 0.01: 0.647',\n",
       "  'joint': 'ADM: 0.05: 0.703',\n",
       "  'federated': 'ADM: 0.1: 0.705',\n",
       "  'pfedme': 'ADM: 0.05: 0.664',\n",
       "  'ditto': 'ADM: 0.1: 0.668'}}"
      ]
     },
     "execution_count": 87,
     "metadata": {},
     "output_type": "execute_result"
    }
   ],
   "source": [
    "best_hyperparams"
   ]
  },
  {
   "cell_type": "markdown",
   "metadata": {},
   "source": [
    "### Credit"
   ]
  },
  {
   "cell_type": "code",
   "execution_count": 98,
   "metadata": {},
   "outputs": [],
   "source": [
    "DATASET = 'Credit'\n",
    "results_estimates, best_hyperparams = process_results(DATASET)"
   ]
  },
  {
   "cell_type": "markdown",
   "metadata": {},
   "source": [
    "### Weather"
   ]
  },
  {
   "cell_type": "code",
   "execution_count": 90,
   "metadata": {},
   "outputs": [],
   "source": [
    "DATASET = 'Weather'\n",
    "results_estimates, best_hyperparams = process_results(DATASET)"
   ]
  },
  {
   "cell_type": "code",
   "execution_count": 91,
   "metadata": {},
   "outputs": [
    {
     "data": {
      "text/plain": [
       "{0.11: {'single': 'SGD: 0.1: 0.895',\n",
       "  'joint': 'ADM: 0.01: 0.856',\n",
       "  'federated': 'SGD: 0.1: 0.409',\n",
       "  'pfedme': 'ADM: 0.05: 0.907',\n",
       "  'ditto': 'ADM: 0.1: 0.904'},\n",
       " 0.19: {'single': 'SGD: 0.1: 0.900',\n",
       "  'joint': 'SGD: 0.1: 0.882',\n",
       "  'federated': 'SGD: 0.1: 0.288',\n",
       "  'pfedme': 'ADM: 0.1: 0.925',\n",
       "  'ditto': 'ADM: 0.1: 0.907'},\n",
       " 0.3: {'single': 'SGD: 0.1: 0.905',\n",
       "  'joint': 'ADM: 0.05: 0.209',\n",
       "  'federated': 'SGD: 0.1: 0.529',\n",
       "  'pfedme': 'ADM: 0.1: 0.923',\n",
       "  'ditto': 'ADM: 0.1: 0.911'},\n",
       " 0.4: {'single': 'SGD: 0.1: 0.898',\n",
       "  'joint': 'SGD: 0.1: 0.899',\n",
       "  'federated': 'SGD: 0.1: 0.427',\n",
       "  'pfedme': 'ADM: 0.1: 0.864',\n",
       "  'ditto': 'ADM: 0.05: 0.863'}}"
      ]
     },
     "execution_count": 91,
     "metadata": {},
     "output_type": "execute_result"
    }
   ],
   "source": [
    "best_hyperparams"
   ]
  },
  {
   "cell_type": "markdown",
   "metadata": {},
   "source": [
    "### EMNIST"
   ]
  },
  {
   "cell_type": "code",
   "execution_count": 92,
   "metadata": {},
   "outputs": [],
   "source": [
    "DATASET = 'EMNIST'\n",
    "results_estimates, best_hyperparams = process_results(DATASET)"
   ]
  },
  {
   "cell_type": "code",
   "execution_count": 93,
   "metadata": {},
   "outputs": [
    {
     "data": {
      "text/plain": [
       "{0.11: {'single': 'ADM: 0.005: 0.947',\n",
       "  'joint': 'ADM: 0.01: 0.965',\n",
       "  'federated': 'ADM: 0.05: 0.603',\n",
       "  'pfedme': 'ADM: 0.05: 0.957',\n",
       "  'ditto': 'ADM: 0.05: 0.936'}}"
      ]
     },
     "execution_count": 93,
     "metadata": {},
     "output_type": "execute_result"
    }
   ],
   "source": [
    "best_hyperparams"
   ]
  },
  {
   "cell_type": "markdown",
   "metadata": {},
   "source": [
    "### CIFAR"
   ]
  },
  {
   "cell_type": "code",
   "execution_count": 60,
   "metadata": {},
   "outputs": [
    {
     "ename": "FileNotFoundError",
     "evalue": "[Errno 2] No such file or directory: '/gpfs/commons/groups/gursoy_lab/aelhussein/ot_cost/otcost_fl_rebase/results/CIFAR_hyperparameter_search.pkl'",
     "output_type": "error",
     "traceback": [
      "\u001b[0;31m---------------------------------------------------------------------------\u001b[0m",
      "\u001b[0;31mFileNotFoundError\u001b[0m                         Traceback (most recent call last)",
      "\u001b[1;32m/gpfs/commons/groups/gursoy_lab/aelhussein/ot_cost/otcost_fl_rebase/code/run_models/hyperparameter_search_results.ipynb Cell 16\u001b[0m line \u001b[0;36m2\n\u001b[1;32m      <a href='vscode-notebook-cell://ssh-remote%2Bml/gpfs/commons/groups/gursoy_lab/aelhussein/ot_cost/otcost_fl_rebase/code/run_models/hyperparameter_search_results.ipynb#Y103sdnNjb2RlLXJlbW90ZQ%3D%3D?line=0'>1</a>\u001b[0m DATASET \u001b[39m=\u001b[39m \u001b[39m'\u001b[39m\u001b[39mCIFAR\u001b[39m\u001b[39m'\u001b[39m\n\u001b[0;32m----> <a href='vscode-notebook-cell://ssh-remote%2Bml/gpfs/commons/groups/gursoy_lab/aelhussein/ot_cost/otcost_fl_rebase/code/run_models/hyperparameter_search_results.ipynb#Y103sdnNjb2RlLXJlbW90ZQ%3D%3D?line=1'>2</a>\u001b[0m results_estimates, best_hyperparams \u001b[39m=\u001b[39m process_results(DATASET)\n",
      "\u001b[1;32m/gpfs/commons/groups/gursoy_lab/aelhussein/ot_cost/otcost_fl_rebase/code/run_models/hyperparameter_search_results.ipynb Cell 16\u001b[0m line \u001b[0;36m3\n\u001b[1;32m     <a href='vscode-notebook-cell://ssh-remote%2Bml/gpfs/commons/groups/gursoy_lab/aelhussein/ot_cost/otcost_fl_rebase/code/run_models/hyperparameter_search_results.ipynb#Y103sdnNjb2RlLXJlbW90ZQ%3D%3D?line=37'>38</a>\u001b[0m \u001b[39mdef\u001b[39;00m \u001b[39mprocess_results\u001b[39m(DATASET):\n\u001b[0;32m---> <a href='vscode-notebook-cell://ssh-remote%2Bml/gpfs/commons/groups/gursoy_lab/aelhussein/ot_cost/otcost_fl_rebase/code/run_models/hyperparameter_search_results.ipynb#Y103sdnNjb2RlLXJlbW90ZQ%3D%3D?line=38'>39</a>\u001b[0m     results \u001b[39m=\u001b[39m load_results(DATASET)\n\u001b[1;32m     <a href='vscode-notebook-cell://ssh-remote%2Bml/gpfs/commons/groups/gursoy_lab/aelhussein/ot_cost/otcost_fl_rebase/code/run_models/hyperparameter_search_results.ipynb#Y103sdnNjb2RlLXJlbW90ZQ%3D%3D?line=39'>40</a>\u001b[0m     results_estimates \u001b[39m=\u001b[39m bootstrap_ci(results)\n\u001b[1;32m     <a href='vscode-notebook-cell://ssh-remote%2Bml/gpfs/commons/groups/gursoy_lab/aelhussein/ot_cost/otcost_fl_rebase/code/run_models/hyperparameter_search_results.ipynb#Y103sdnNjb2RlLXJlbW90ZQ%3D%3D?line=40'>41</a>\u001b[0m     best_hyperparams \u001b[39m=\u001b[39m best_parameters(results_estimates)\n",
      "\u001b[1;32m/gpfs/commons/groups/gursoy_lab/aelhussein/ot_cost/otcost_fl_rebase/code/run_models/hyperparameter_search_results.ipynb Cell 16\u001b[0m line \u001b[0;36m2\n\u001b[1;32m      <a href='vscode-notebook-cell://ssh-remote%2Bml/gpfs/commons/groups/gursoy_lab/aelhussein/ot_cost/otcost_fl_rebase/code/run_models/hyperparameter_search_results.ipynb#Y103sdnNjb2RlLXJlbW90ZQ%3D%3D?line=0'>1</a>\u001b[0m \u001b[39mdef\u001b[39;00m \u001b[39mload_results\u001b[39m(DATASET):\n\u001b[0;32m----> <a href='vscode-notebook-cell://ssh-remote%2Bml/gpfs/commons/groups/gursoy_lab/aelhussein/ot_cost/otcost_fl_rebase/code/run_models/hyperparameter_search_results.ipynb#Y103sdnNjb2RlLXJlbW90ZQ%3D%3D?line=1'>2</a>\u001b[0m     \u001b[39mwith\u001b[39;00m \u001b[39mopen\u001b[39;49m(\u001b[39mf\u001b[39;49m\u001b[39m'\u001b[39;49m\u001b[39m{\u001b[39;49;00mROOT_DIR\u001b[39m}\u001b[39;49;00m\u001b[39m/results/\u001b[39;49m\u001b[39m{\u001b[39;49;00mDATASET\u001b[39m}\u001b[39;49;00m\u001b[39m_hyperparameter_search.pkl\u001b[39;49m\u001b[39m'\u001b[39;49m, \u001b[39m'\u001b[39;49m\u001b[39mrb\u001b[39;49m\u001b[39m'\u001b[39;49m) \u001b[39mas\u001b[39;00m f :\n\u001b[1;32m      <a href='vscode-notebook-cell://ssh-remote%2Bml/gpfs/commons/groups/gursoy_lab/aelhussein/ot_cost/otcost_fl_rebase/code/run_models/hyperparameter_search_results.ipynb#Y103sdnNjb2RlLXJlbW90ZQ%3D%3D?line=2'>3</a>\u001b[0m         results \u001b[39m=\u001b[39m pickle\u001b[39m.\u001b[39mload(f)\n\u001b[1;32m      <a href='vscode-notebook-cell://ssh-remote%2Bml/gpfs/commons/groups/gursoy_lab/aelhussein/ot_cost/otcost_fl_rebase/code/run_models/hyperparameter_search_results.ipynb#Y103sdnNjb2RlLXJlbW90ZQ%3D%3D?line=3'>4</a>\u001b[0m     \u001b[39mreturn\u001b[39;00m results\n",
      "File \u001b[0;32m~/anaconda3/envs/torch_env/lib/python3.10/site-packages/IPython/core/interactiveshell.py:282\u001b[0m, in \u001b[0;36m_modified_open\u001b[0;34m(file, *args, **kwargs)\u001b[0m\n\u001b[1;32m    275\u001b[0m \u001b[39mif\u001b[39;00m file \u001b[39min\u001b[39;00m {\u001b[39m0\u001b[39m, \u001b[39m1\u001b[39m, \u001b[39m2\u001b[39m}:\n\u001b[1;32m    276\u001b[0m     \u001b[39mraise\u001b[39;00m \u001b[39mValueError\u001b[39;00m(\n\u001b[1;32m    277\u001b[0m         \u001b[39mf\u001b[39m\u001b[39m\"\u001b[39m\u001b[39mIPython won\u001b[39m\u001b[39m'\u001b[39m\u001b[39mt let you open fd=\u001b[39m\u001b[39m{\u001b[39;00mfile\u001b[39m}\u001b[39;00m\u001b[39m by default \u001b[39m\u001b[39m\"\u001b[39m\n\u001b[1;32m    278\u001b[0m         \u001b[39m\"\u001b[39m\u001b[39mas it is likely to crash IPython. If you know what you are doing, \u001b[39m\u001b[39m\"\u001b[39m\n\u001b[1;32m    279\u001b[0m         \u001b[39m\"\u001b[39m\u001b[39myou can use builtins\u001b[39m\u001b[39m'\u001b[39m\u001b[39m open.\u001b[39m\u001b[39m\"\u001b[39m\n\u001b[1;32m    280\u001b[0m     )\n\u001b[0;32m--> 282\u001b[0m \u001b[39mreturn\u001b[39;00m io_open(file, \u001b[39m*\u001b[39;49margs, \u001b[39m*\u001b[39;49m\u001b[39m*\u001b[39;49mkwargs)\n",
      "\u001b[0;31mFileNotFoundError\u001b[0m: [Errno 2] No such file or directory: '/gpfs/commons/groups/gursoy_lab/aelhussein/ot_cost/otcost_fl_rebase/results/CIFAR_hyperparameter_search.pkl'"
     ]
    }
   ],
   "source": [
    "DATASET = 'CIFAR'\n",
    "results_estimates, best_hyperparams = process_results(DATASET)"
   ]
  },
  {
   "cell_type": "code",
   "execution_count": null,
   "metadata": {},
   "outputs": [
    {
     "data": {
      "text/plain": [
       "{0.12: {'single': 'ADM:0.05:0.943',\n",
       "  'joint': 'ADM:0.1:0.953',\n",
       "  'federated': 'ADM:0.1:0.934',\n",
       "  'pfedme': 'ADM:0.1:0.942',\n",
       "  'ditto': 'ADM:0.1:0.937'}}"
      ]
     },
     "metadata": {},
     "output_type": "display_data"
    }
   ],
   "source": [
    "best_hyperparams"
   ]
  },
  {
   "cell_type": "markdown",
   "metadata": {},
   "source": [
    "### IXITiny"
   ]
  },
  {
   "cell_type": "code",
   "execution_count": null,
   "metadata": {},
   "outputs": [],
   "source": [
    "DATASET = 'IXITiny'\n",
    "results_estimates, best_hyperparams = process_results(DATASET)"
   ]
  },
  {
   "cell_type": "code",
   "execution_count": null,
   "metadata": {},
   "outputs": [
    {
     "data": {
      "text/plain": [
       "{0.12: {'single': 'ADM:0.05:0.943',\n",
       "  'joint': 'ADM:0.1:0.953',\n",
       "  'federated': 'ADM:0.1:0.934',\n",
       "  'pfedme': 'ADM:0.1:0.942',\n",
       "  'ditto': 'ADM:0.1:0.937'}}"
      ]
     },
     "metadata": {},
     "output_type": "display_data"
    }
   ],
   "source": [
    "best_hyperparams"
   ]
  },
  {
   "cell_type": "markdown",
   "metadata": {},
   "source": [
    "### ISIC"
   ]
  },
  {
   "cell_type": "code",
   "execution_count": null,
   "metadata": {},
   "outputs": [],
   "source": [
    "DATASET = 'ISIC'\n",
    "results_estimates, best_hyperparams = process_results(DATASET)"
   ]
  },
  {
   "cell_type": "code",
   "execution_count": null,
   "metadata": {},
   "outputs": [
    {
     "data": {
      "text/plain": [
       "{0.12: {'single': 'ADM:0.05:0.943',\n",
       "  'joint': 'ADM:0.1:0.953',\n",
       "  'federated': 'ADM:0.1:0.934',\n",
       "  'pfedme': 'ADM:0.1:0.942',\n",
       "  'ditto': 'ADM:0.1:0.937'}}"
      ]
     },
     "metadata": {},
     "output_type": "display_data"
    }
   ],
   "source": [
    "best_hyperparams"
   ]
  }
 ],
 "metadata": {
  "kernelspec": {
   "display_name": "Python 3 (ipykernel)",
   "language": "python",
   "name": "python3"
  },
  "language_info": {
   "codemirror_mode": {
    "name": "ipython",
    "version": 3
   },
   "file_extension": ".py",
   "mimetype": "text/x-python",
   "name": "python",
   "nbconvert_exporter": "python",
   "pygments_lexer": "ipython3",
   "version": "3.10.10"
  },
  "orig_nbformat": 4,
  "vscode": {
   "interpreter": {
    "hash": "31f2aee4e71d21fbe5cf8b01ff0e069b9275f58929596ceb00d14d90e3e16cd6"
   }
  }
 },
 "nbformat": 4,
 "nbformat_minor": 2
}
