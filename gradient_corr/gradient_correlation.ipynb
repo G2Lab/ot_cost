{
 "cells": [
  {
   "cell_type": "code",
   "execution_count": 1,
   "metadata": {},
   "outputs": [],
   "source": [
    "ROOT_DIR = '/gpfs/commons/groups/gursoy_lab/aelhussein/ot_cost/otcost_fl_rebase'\n",
    "SAVE_DIR = '/gpfs/commons/groups/gursoy_lab/aelhussein/ot_cost/otcost_fl_rebase/results'\n",
    "import pandas as pd\n",
    "import sys\n",
    "import numpy as np\n",
    "import pickle\n",
    "import matplotlib.pyplot as plt\n",
    "import seaborn as sns\n",
    "import scipy.stats as stats"
   ]
  },
  {
   "cell_type": "code",
   "execution_count": 29,
   "metadata": {},
   "outputs": [],
   "source": [
    "def load_results_grad(DATASET):\n",
    "    with open(f'{ROOT_DIR}/results/{DATASET}/{DATASET}_gradient_diversities_full.pkl', 'rb') as f :\n",
    "        results = pickle.load(f)\n",
    "    return results\n",
    "\n",
    "def load_cost_grad(DATASET):\n",
    "    results = load_results_grad(DATASET)\n",
    "    dataset_costs =  pd.read_csv(f'{ROOT_DIR}/results/wasserstein/Wasserstein_{DATASET}.csv').dropna()\n",
    "    grad_div = [np.mean(results[k]['metric'][-5:-1]) for k in results] # take mean of the final 5 as theres a lot of variance\n",
    "    dataset_costs['grad_div'] = grad_div\n",
    "    dataset_costs['dataset'] = DATASET \n",
    "    return dataset_costs\n",
    "def load_all_costs_grad(DATASETS):\n",
    "    all_datasets_costs = pd.DataFrame()\n",
    "    for DATASET in DATASETS:\n",
    "        dataset_costs =  load_cost_grad(DATASET)\n",
    "        all_datasets_costs = pd.concat([all_datasets_costs, dataset_costs])\n",
    "    return all_datasets_costs\n"
   ]
  },
  {
   "cell_type": "code",
   "execution_count": 30,
   "metadata": {},
   "outputs": [],
   "source": [
    "DATASETS = ['Synthetic', 'Credit', 'Weather',\n",
    "            'EMNIST', 'CIFAR', 'ISIC', 'IXITiny']\n",
    "corr_results = {}\n",
    "for DATASET in DATASETS:\n",
    "    data = load_cost_grad(DATASET)\n",
    "    corr_ours, corr_wass = stats.pearsonr(data['grad_div'], data['Ours']), stats.pearsonr(data['grad_div'], data['Wasserstein'])\n",
    "    corr_results[DATASET]= [corr_ours[0], corr_ours[1], corr_wass[0], corr_wass[1]]\n",
    "data = load_all_costs_grad(DATASETS)\n",
    "corr_ours, corr_wass = stats.pearsonr(data['grad_div'], data['Ours']), stats.pearsonr(data['grad_div'], data['Wasserstein'])\n",
    "corr_results['all']= [corr_ours[0], corr_ours[1], corr_wass[0], corr_wass[1]]"
   ]
  },
  {
   "cell_type": "code",
   "execution_count": 36,
   "metadata": {},
   "outputs": [],
   "source": [
    "corr_results_df = pd.DataFrame.from_dict(corr_results, orient = 'index', columns = ['Ours', 'Pvalue', 'Wasserstein', 'Pvalue'])\n",
    "corr_results_df.to_csv(f'{ROOT_DIR}/results/grad_div_corr/grad_div_corr.csv')"
   ]
  },
  {
   "cell_type": "code",
   "execution_count": 37,
   "metadata": {},
   "outputs": [
    {
     "data": {
      "text/html": [
       "<div>\n",
       "<style scoped>\n",
       "    .dataframe tbody tr th:only-of-type {\n",
       "        vertical-align: middle;\n",
       "    }\n",
       "\n",
       "    .dataframe tbody tr th {\n",
       "        vertical-align: top;\n",
       "    }\n",
       "\n",
       "    .dataframe thead th {\n",
       "        text-align: right;\n",
       "    }\n",
       "</style>\n",
       "<table border=\"1\" class=\"dataframe\">\n",
       "  <thead>\n",
       "    <tr style=\"text-align: right;\">\n",
       "      <th></th>\n",
       "      <th>Ours</th>\n",
       "      <th>Pvalue</th>\n",
       "      <th>Wasserstein</th>\n",
       "      <th>Pvalue</th>\n",
       "    </tr>\n",
       "  </thead>\n",
       "  <tbody>\n",
       "    <tr>\n",
       "      <th>Synthetic</th>\n",
       "      <td>0.830050</td>\n",
       "      <td>0.040870</td>\n",
       "      <td>0.801384</td>\n",
       "      <td>0.055255</td>\n",
       "    </tr>\n",
       "    <tr>\n",
       "      <th>Credit</th>\n",
       "      <td>0.924256</td>\n",
       "      <td>0.075744</td>\n",
       "      <td>0.837803</td>\n",
       "      <td>0.162197</td>\n",
       "    </tr>\n",
       "    <tr>\n",
       "      <th>Weather</th>\n",
       "      <td>0.761458</td>\n",
       "      <td>0.134740</td>\n",
       "      <td>0.105610</td>\n",
       "      <td>0.865784</td>\n",
       "    </tr>\n",
       "    <tr>\n",
       "      <th>EMNIST</th>\n",
       "      <td>0.780360</td>\n",
       "      <td>0.119412</td>\n",
       "      <td>0.303279</td>\n",
       "      <td>0.619857</td>\n",
       "    </tr>\n",
       "    <tr>\n",
       "      <th>CIFAR</th>\n",
       "      <td>0.949899</td>\n",
       "      <td>0.050101</td>\n",
       "      <td>0.573981</td>\n",
       "      <td>0.426019</td>\n",
       "    </tr>\n",
       "    <tr>\n",
       "      <th>ISIC</th>\n",
       "      <td>0.994456</td>\n",
       "      <td>0.000495</td>\n",
       "      <td>0.974627</td>\n",
       "      <td>0.004833</td>\n",
       "    </tr>\n",
       "    <tr>\n",
       "      <th>IXITiny</th>\n",
       "      <td>0.991235</td>\n",
       "      <td>0.084353</td>\n",
       "      <td>0.771917</td>\n",
       "      <td>0.438596</td>\n",
       "    </tr>\n",
       "    <tr>\n",
       "      <th>all</th>\n",
       "      <td>0.422412</td>\n",
       "      <td>0.016023</td>\n",
       "      <td>-0.215721</td>\n",
       "      <td>0.235711</td>\n",
       "    </tr>\n",
       "  </tbody>\n",
       "</table>\n",
       "</div>"
      ],
      "text/plain": [
       "               Ours    Pvalue  Wasserstein    Pvalue\n",
       "Synthetic  0.830050  0.040870     0.801384  0.055255\n",
       "Credit     0.924256  0.075744     0.837803  0.162197\n",
       "Weather    0.761458  0.134740     0.105610  0.865784\n",
       "EMNIST     0.780360  0.119412     0.303279  0.619857\n",
       "CIFAR      0.949899  0.050101     0.573981  0.426019\n",
       "ISIC       0.994456  0.000495     0.974627  0.004833\n",
       "IXITiny    0.991235  0.084353     0.771917  0.438596\n",
       "all        0.422412  0.016023    -0.215721  0.235711"
      ]
     },
     "execution_count": 37,
     "metadata": {},
     "output_type": "execute_result"
    }
   ],
   "source": [
    "corr_results_df"
   ]
  },
  {
   "cell_type": "code",
   "execution_count": 38,
   "metadata": {},
   "outputs": [
    {
     "data": {
      "text/plain": [
       "Ttest_relResult(statistic=2.874995457427491, pvalue=0.028241930300463812)"
      ]
     },
     "execution_count": 38,
     "metadata": {},
     "output_type": "execute_result"
    }
   ],
   "source": [
    "#remove the all to just compare datasets\n",
    "stats.ttest_rel(corr_results_df['Ours'].iloc[:-1], corr_results_df['Wasserstein'].iloc[:-1])"
   ]
  }
 ],
 "metadata": {
  "kernelspec": {
   "display_name": "torch_env",
   "language": "python",
   "name": "python3"
  },
  "language_info": {
   "codemirror_mode": {
    "name": "ipython",
    "version": 3
   },
   "file_extension": ".py",
   "mimetype": "text/x-python",
   "name": "python",
   "nbconvert_exporter": "python",
   "pygments_lexer": "ipython3",
   "version": "3.10.10"
  }
 },
 "nbformat": 4,
 "nbformat_minor": 2
}
