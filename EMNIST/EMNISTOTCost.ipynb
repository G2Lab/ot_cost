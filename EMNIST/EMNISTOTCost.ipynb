{
 "cells": [
  {
   "cell_type": "code",
   "execution_count": 1,
   "metadata": {},
   "outputs": [],
   "source": [
    "global ROOT_DIR\n",
    "ROOT_DIR = '/gpfs/commons/groups/gursoy_lab/aelhussein/ot_cost/otcost_fl_rebase'\n",
    "DATA_DIR = f'{ROOT_DIR}/data/EMNIST'"
   ]
  },
  {
   "cell_type": "code",
   "execution_count": 2,
   "metadata": {},
   "outputs": [],
   "source": [
    "import numpy as np\n",
    "import copy\n",
    "import matplotlib.pyplot as plt\n",
    "import sys\n",
    "sys.path.append(f'{ROOT_DIR}/code/helper/')\n",
    "import OTCost as ot\n",
    "import importlib\n",
    "importlib.reload(ot)\n",
    "from emnist import extract_training_samples\n",
    "import pickle"
   ]
  },
  {
   "cell_type": "markdown",
   "metadata": {},
   "source": [
    "## load data"
   ]
  },
  {
   "cell_type": "code",
   "execution_count": 3,
   "metadata": {},
   "outputs": [],
   "source": [
    "##load dataset\n",
    "images_full, labels_full = extract_training_samples('byclass')"
   ]
  },
  {
   "cell_type": "code",
   "execution_count": 4,
   "metadata": {},
   "outputs": [],
   "source": [
    "def getIndices(indices, size):\n",
    "    indices_use = []\n",
    "    ## loop through and pull indices\n",
    "    for ind in indices:\n",
    "        indices_use.extend(np.where(np.isin(labels_full, ind) == True)[0][:size])\n",
    "    return indices_use"
   ]
  },
  {
   "cell_type": "code",
   "execution_count": 5,
   "metadata": {},
   "outputs": [],
   "source": [
    "def pull_labels(images, labels, indices, size):\n",
    "    ##get indices for x, i\n",
    "    ind_1 =  getIndices(indices[0], size)\n",
    "    ind_2 =  getIndices(indices[1], size)\n",
    "\n",
    "    ##pull data and labels\n",
    "    X1 = images[ind_1] / 255\n",
    "    X2 = images[ind_2] / 255\n",
    "    y1 = labels[ind_1]\n",
    "    y2 = labels[ind_2]\n",
    "\n",
    "    return {\"1\": X1, \"2\": X2}, {\"1\":y1, \"2\":y2}"
   ]
  },
  {
   "cell_type": "code",
   "execution_count": 6,
   "metadata": {},
   "outputs": [],
   "source": [
    "def addNoise(data, mean = 0, sigma = 1):\n",
    "    n = data.shape[0]\n",
    "    noise = np.random.normal(mean, sigma, size = n*28*28).reshape(n,28,28)\n",
    "    data_ = copy.deepcopy(data)\n",
    "    data_ += noise\n",
    "    return data_\n"
   ]
  },
  {
   "cell_type": "code",
   "execution_count": 7,
   "metadata": {},
   "outputs": [],
   "source": [
    "def saveDataset(X,y, name):\n",
    "    np.savez(f'{DATA_DIR}/{name}.npz', data = X, labels = y)\n",
    "    return"
   ]
  },
  {
   "cell_type": "code",
   "execution_count": 8,
   "metadata": {},
   "outputs": [],
   "source": [
    "def sampler(data, label, num = 2000):\n",
    "    data_, label_  = {}, {}\n",
    "    for i in data:\n",
    "        idx = np.random.choice(np.arange(data[i].shape[0]), num, replace=False)\n",
    "        data_[i] = data[i][idx]\n",
    "        label_[i] = label[i][idx].reshape(1,-1)[0]\n",
    "\n",
    "        data_[i] = data_[i].reshape((num, 28*28))\n",
    "    return data_, label_\n"
   ]
  },
  {
   "cell_type": "markdown",
   "metadata": {},
   "source": [
    "## view images"
   ]
  },
  {
   "cell_type": "code",
   "execution_count": 11,
   "metadata": {},
   "outputs": [
    {
     "data": {
      "image/png": "[encoded data removed]",
      "text/plain": [
       "<Figure size 640x480 with 1 Axes>"
      ]
     },
     "metadata": {},
     "output_type": "display_data"
    },
    {
     "data": {
      "image/png": "[encoded data removed]",
      "text/plain": [
       "<Figure size 640x480 with 1 Axes>"
      ]
     },
     "metadata": {},
     "output_type": "display_data"
    },
    {
     "data": {
      "image/png": "[encoded data removed]",
      "text/plain": [
       "<Figure size 640x480 with 1 Axes>"
      ]
     },
     "metadata": {},
     "output_type": "display_data"
    }
   ],
   "source": [
    "digits = [x for x in range(10)]\n",
    "indices = [digits, [36,61]]\n",
    "data, label = pull_labels(images_full, labels_full, indices, size = 200)\n",
    "for i in range(200,203):\n",
    "    image = np.reshape(data['2'][i], (28, 28))\n",
    "    plt.imshow(image, cmap='gray')\n",
    "    plt.show()"
   ]
  },
  {
   "cell_type": "markdown",
   "metadata": {},
   "source": [
    "## create datasets"
   ]
  },
  {
   "cell_type": "code",
   "execution_count": 9,
   "metadata": {},
   "outputs": [],
   "source": [
    "DATASET = 'EMNIST'\n",
    "SAVE = True"
   ]
  },
  {
   "cell_type": "code",
   "execution_count": 10,
   "metadata": {},
   "outputs": [],
   "source": [
    "## same digits 1-10\n",
    "importlib.reload(ot)\n",
    "digits = [x for x in range(10)]\n",
    "indices = [digits, digits]\n",
    "data, label = pull_labels(images_full, labels_full, indices, size = 500)\n",
    "data_, label_ = sampler(data, label)\n",
    "\n",
    "EMNIST_OTCost_label = ot.OTCost(DATASET, data_, label_)\n",
    "cost = EMNIST_OTCost_label.calculate_ot_cost()\n",
    "cost = \"{:.2f}\".format(float(cost))"
   ]
  },
  {
   "cell_type": "code",
   "execution_count": null,
   "metadata": {},
   "outputs": [],
   "source": [
    "EMNIST_OTCost_label.feature_costs"
   ]
  },
  {
   "cell_type": "code",
   "execution_count": 28,
   "metadata": {},
   "outputs": [
    {
     "name": "stdout",
     "output_type": "stream",
     "text": [
      "cost: 0.11\n"
     ]
    }
   ],
   "source": [
    "## same digits 1-10\n",
    "importlib.reload(ot)\n",
    "digits = [x for x in range(10)]\n",
    "indices = [digits, digits]\n",
    "data, label = pull_labels(images_full, labels_full, indices, size = 500)\n",
    "data_, label_ = sampler(data, label)\n",
    "\n",
    "EMNIST_OTCost_label = ot.OTCost(DATASET, data_, label_)\n",
    "cost = EMNIST_OTCost_label.calculate_ot_cost()\n",
    "cost = \"{:.2f}\".format(float(cost))\n",
    "\n",
    "if SAVE:\n",
    "    saveDataset(data['1'],label['1'], f'data_1_{cost}')\n",
    "    saveDataset(data['2'],label['2'], f'data_2_{cost}')"
   ]
  },
  {
   "cell_type": "code",
   "execution_count": 25,
   "metadata": {},
   "outputs": [
    {
     "name": "stdout",
     "output_type": "stream",
     "text": [
      "cost: 0.19\n"
     ]
    }
   ],
   "source": [
    "## same digits 1-10 + some bymerge letters\n",
    "importlib.reload(ot)\n",
    "characters_1, characters_2 = [], []\n",
    "digits = [x for x in range(10)]\n",
    "merge_letters = [12,24,18,28] #C, O, I, S\n",
    "characters_1 = digits + merge_letters \n",
    "characters_2 = digits + [x+26 for x in merge_letters]\n",
    "\n",
    "\n",
    "indices = [characters_1, characters_2]\n",
    "data, label = pull_labels(images_full, labels_full, indices, size = 500)\n",
    "data_, label_ = sampler(data, label)\n",
    "\n",
    "EMNIST_OTCost_label = ot.OTCost(DATASET, data_, label_)\n",
    "cost = EMNIST_OTCost_label.calculate_ot_cost()\n",
    "cost = \"{:.2f}\".format(float(cost))\n",
    "\n",
    "if SAVE:\n",
    "    saveDataset(data['1'],label['1'], f'data_1_{cost}')\n",
    "    saveDataset(data['2'],label['2'], f'data_2_{cost}')"
   ]
  },
  {
   "cell_type": "code",
   "execution_count": 40,
   "metadata": {},
   "outputs": [
    {
     "name": "stdout",
     "output_type": "stream",
     "text": [
      "cost: 0.25\n"
     ]
    }
   ],
   "source": [
    "##overlapping digits (1-9) and some split by merge (c,o,i,s, x) and random\n",
    "importlib.reload(ot)\n",
    "characters_1, characters_2 = [], []\n",
    "digits = [x for x in range(10)]\n",
    "merge_letters = [12,24,18,28] #C, O, I, S\n",
    "random_letters = [11,13, 14,16] #B, D, E, G, H, R\n",
    "characters_1 = digits + merge_letters + random_letters\n",
    "characters_2 = digits + [x+26 for x in merge_letters] + [x+26 for x in random_letters] # get the same letters but lower case\n",
    "\n",
    "\n",
    "indices = [characters_1, characters_2]\n",
    "data, label = pull_labels(images_full, labels_full, indices, size = 500)\n",
    "data_, label_ = sampler(data, label)\n",
    "\n",
    "\n",
    "EMNIST_OTCost_label = ot.OTCost(DATASET, data_, label_)\n",
    "cost = EMNIST_OTCost_label.calculate_ot_cost()\n",
    "cost = \"{:.2f}\".format(float(cost))\n",
    "\n",
    "if SAVE:\n",
    "    saveDataset(data['1'],label['1'], f'data_1_{cost}')\n",
    "    saveDataset(data['2'],label['2'], f'data_2_{cost}')"
   ]
  },
  {
   "cell_type": "code",
   "execution_count": 44,
   "metadata": {},
   "outputs": [
    {
     "name": "stdout",
     "output_type": "stream",
     "text": [
      "cost: 0.34\n"
     ]
    }
   ],
   "source": [
    "##digits and some upper vs. lower\n",
    "importlib.reload(ot)\n",
    "digits = [x for x in range(5)]\n",
    "upper_characters = [x for x in range(10, 25)]\n",
    "lower_characters = [x for x in range(36, 51)]\n",
    "\n",
    "characters_1 = digits + upper_characters\n",
    "characters_2 = digits + lower_characters\n",
    "\n",
    "indices = [characters_1, characters_2]\n",
    "data, label = pull_labels(images_full, labels_full, indices, size = 500)\n",
    "data_, label_ = sampler(data, label, num = 900)\n",
    "\n",
    "EMNIST_OTCost_label = ot.OTCost(DATASET, data_, label_)\n",
    "cost = EMNIST_OTCost_label.calculate_ot_cost()\n",
    "cost = \"{:.2f}\".format(float(cost))\n",
    "\n",
    "if SAVE:\n",
    "    saveDataset(data['1'],label['1'], f'data_1_{cost}')\n",
    "    saveDataset(data['2'],label['2'], f'data_2_{cost}')"
   ]
  },
  {
   "cell_type": "code",
   "execution_count": 16,
   "metadata": {},
   "outputs": [
    {
     "name": "stdout",
     "output_type": "stream",
     "text": [
      "cost: 0.39\n"
     ]
    }
   ],
   "source": [
    "##0.4 upper vs. lower\n",
    "importlib.reload(ot)\n",
    "upper_characters = [x for x in range(10, 35)]\n",
    "lower_characters = [x for x in range(36, 61)]\n",
    "indices = [upper_characters, lower_characters]\n",
    "data, label = pull_labels(images_full, labels_full, indices, size = 500)\n",
    "data_, label_ = sampler(data, label, num = 900)\n",
    "\n",
    "EMNIST_OTCost_label = ot.OTCost(DATASET, data_, label_)\n",
    "cost = EMNIST_OTCost_label.calculate_ot_cost()\n",
    "cost = \"{:.2f}\".format(float(cost))\n",
    "\n",
    "if SAVE:\n",
    "    saveDataset(data['1'],label['1'], f'data_1_{cost}')\n",
    "    saveDataset(data['2'],label['2'], f'data_2_{cost}')"
   ]
  },
  {
   "cell_type": "markdown",
   "metadata": {},
   "source": [
    "## save the classes used"
   ]
  },
  {
   "cell_type": "code",
   "execution_count": 18,
   "metadata": {},
   "outputs": [],
   "source": [
    "classes_used = {}\n",
    "\n",
    "digits = [x for x in range(10)]\n",
    "indices = [digits, digits]\n",
    "classes_used[0.11] = indices\n",
    "\n",
    "\n",
    "characters_1, characters_2 = [], []\n",
    "digits = [x for x in range(10)]\n",
    "merge_letters = [12,24,18,28] #C, O, I, S\n",
    "characters_1 = digits + merge_letters \n",
    "characters_2 = digits + [x+26 for x in merge_letters]\n",
    "indices = [characters_1, characters_2]\n",
    "classes_used[0.19]= indices\n",
    "\n",
    "\n",
    "characters_1, characters_2 = [], []\n",
    "digits = [x for x in range(10)]\n",
    "merge_letters = [12,24,18,28] #C, O, I, S\n",
    "random_letters = [11,13, 14,16] #B, D, E, G, H, R\n",
    "characters_1 = digits + merge_letters + random_letters\n",
    "characters_2 = digits + [x+26 for x in merge_letters] + [x+26 for x in random_letters] # get the same letters but lower case\n",
    "indices = [characters_1, characters_2]\n",
    "classes_used[0.25]= indices\n",
    "\n",
    "digits = [x for x in range(5)]\n",
    "upper_characters = [x for x in range(10, 25)]\n",
    "lower_characters = [x for x in range(36, 51)]\n",
    "characters_1 = digits + upper_characters\n",
    "characters_2 = digits + lower_characters\n",
    "indices = [characters_1, characters_2]\n",
    "classes_used[0.34]  =  indices\n",
    "\n",
    "\n",
    "upper_characters = [x for x in range(10, 35)]\n",
    "lower_characters = [x for x in range(36, 61)]\n",
    "indices = [upper_characters, lower_characters]\n",
    "classes_used[0.39] =  indices\n"
   ]
  },
  {
   "cell_type": "code",
   "execution_count": 19,
   "metadata": {},
   "outputs": [],
   "source": [
    "with open(f'{DATA_DIR}/CLASSES', 'wb') as f:\n",
    "    pickle.dump(classes_used, f)"
   ]
  }
 ],
 "metadata": {
  "kernelspec": {
   "display_name": "Python 3 (ipykernel)",
   "language": "python",
   "name": "python3"
  },
  "language_info": {
   "codemirror_mode": {
    "name": "ipython",
    "version": 3
   },
   "file_extension": ".py",
   "mimetype": "text/x-python",
   "name": "python",
   "nbconvert_exporter": "python",
   "pygments_lexer": "ipython3",
   "version": "3.10.10"
  },
  "vscode": {
   "interpreter": {
    "hash": "31f2aee4e71d21fbe5cf8b01ff0e069b9275f58929596ceb00d14d90e3e16cd6"
   }
  }
 },
 "nbformat": 4,
 "nbformat_minor": 2
}
