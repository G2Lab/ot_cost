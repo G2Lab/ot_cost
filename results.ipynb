{
 "cells": [
  {
   "cell_type": "code",
   "execution_count": 5,
   "metadata": {},
   "outputs": [],
   "source": [
    "ROOT_DIR = '/gpfs/commons/groups/gursoy_lab/aelhussein/ot_cost/otcost_fl_rebase'\n",
    "import pandas as pd\n",
    "import sys\n",
    "import numpy as np\n",
    "import pickle\n",
    "import matplotlib.pyplot as plt\n",
    "import seaborn as sns\n",
    "from scipy.stats import bootstrap"
   ]
  },
  {
   "cell_type": "code",
   "execution_count": 77,
   "metadata": {},
   "outputs": [],
   "source": [
    "def load_results(DATASET):\n",
    "    with open(f'{ROOT_DIR}/results/{DATASET}_scores.pkl', 'rb') as f :\n",
    "        results = pickle.load(f)\n",
    "    return results"
   ]
  },
  {
   "cell_type": "code",
   "execution_count": 263,
   "metadata": {},
   "outputs": [],
   "source": [
    "def bootstrap_ci(data, alpha=0.95):\n",
    "    estimates = {}\n",
    "    for c in data:\n",
    "        estimates[c]={}\n",
    "        for arch in data[c]:\n",
    "            res = data[c][arch]\n",
    "            median = np.mean(res)\n",
    "            bs_reps = bootstrap(np.array(res).reshape(1,-1), statistic=np.mean, n_resamples=1000)\n",
    "            ci = bs_reps.confidence_interval[0:2]\n",
    "            estimates[c][arch] = (median, ci[0], ci[1])\n",
    "    return estimates"
   ]
  },
  {
   "cell_type": "code",
   "execution_count": 182,
   "metadata": {},
   "outputs": [
    {
     "data": {
      "text/plain": [
       "{0.03: {'single': (0.69140625, 0.6754977185866595, 0.7105289599802059),\n",
       "  'joint': (0.7343358395989975, 0.7104505016479244, 0.7456550776067316)},\n",
       " 0.1: {'single': (0.7190241228070176, 0.7000968597650177, 0.7333740830837739),\n",
       "  'joint': (0.7465570175438596, 0.7317872415846755, 0.7604267875846384)},\n",
       " 0.2: {'single': (0.69375, 0.6703698486772205, 0.7066401514982624),\n",
       "  'joint': (0.73, 0.7078687042722043, 0.7389558971144318)},\n",
       " 0.3: {'single': (0.7350595238095239, 0.7165548663754714, 0.7461567503626522),\n",
       "  'joint': (0.7069235588972431, 0.6721437514263884, 0.7108343218581334)},\n",
       " 0.4: {'single': (0.7256155303030303, 0.705410103668716, 0.7382725025788206),\n",
       "  'joint': (0.7058803258145363, 0.6781470052177297, 0.7178701885375244)},\n",
       " 0.5: {'single': (0.7243107769423558, 0.7005604823275423, 0.7371928783734353),\n",
       "  'joint': (0.6793154761904763, 0.6429005272891283, 0.6815194207617341)},\n",
       " 0.6: {'single': (0.7277583527583527, 0.7161966736866858, 0.7473110941719163),\n",
       "  'joint': (0.6972348484848485, 0.6696613721258399, 0.7103300281461435)}}"
      ]
     },
     "execution_count": 182,
     "metadata": {},
     "output_type": "execute_result"
    }
   ],
   "source": [
    "DATASET = 'Synthetic'\n",
    "synthetic = load_results(DATASET)\n",
    "bootstrap_ci(synthetic, alpha=0.95)"
   ]
  },
  {
   "cell_type": "code",
   "execution_count": 264,
   "metadata": {},
   "outputs": [
    {
     "data": {
      "text/plain": [
       "{0.12: {'single': (0.8625324967126257, 0.85052421377984, 0.8765363286470974),\n",
       "  'joint': (0.9145622178099544, 0.9017308191394712, 0.9247352210699481)},\n",
       " 0.23: {'single': (0.905779297189917, 0.8971221961042726, 0.9132546284651057),\n",
       "  'joint': (0.9173100452942791, 0.9065236339497768, 0.9264583661874612)},\n",
       " 0.3: {'single': (0.9152078782016896, 0.9064217861661024, 0.9238058125760085),\n",
       "  'joint': (0.8734844257612652, 0.8659261608692491, 0.880732870060119)},\n",
       " 0.4: {'single': (0.9179579058804364, 0.9090836636174007, 0.9260074048613586),\n",
       "  'joint': (0.8439871585324209, 0.8348993660195032, 0.8521431954314848)}}"
      ]
     },
     "execution_count": 264,
     "metadata": {},
     "output_type": "execute_result"
    }
   ],
   "source": [
    "DATASET = 'Credit'\n",
    "synthetic = load_results(DATASET)\n",
    "bootstrap_ci(synthetic, alpha=0.95)"
   ]
  },
  {
   "cell_type": "code",
   "execution_count": 471,
   "metadata": {},
   "outputs": [
    {
     "data": {
      "text/plain": [
       "{0.11: {'single': (0.5004076403357345, 0.4524761066353896, 0.5319210533081937),\n",
       "  'joint': (0.5919992401725008, 0.556458592010874, 0.6139469557952182)},\n",
       " 0.19: {'single': (0.533549592025875, 0.4817703912538468, 0.5585228777660226),\n",
       "  'joint': (0.5766104156917659, 0.528387944618793, 0.6096518472625233)},\n",
       " 0.3: {'single': (0.49162799065566576,\n",
       "   0.42652688166659564,\n",
       "   0.5298553670273932),\n",
       "  'joint': (0.4670470000368545, 0.439348692315318, 0.4831009265426055)},\n",
       " 0.4: {'single': (0.5343157782277885, 0.49048667288372594, 0.5579590100848233),\n",
       "  'joint': (0.49263346620121246, 0.4710269094318973, 0.511569555824005)},\n",
       " 0.48: {'single': (0.5438670063507935, 0.511645915471298, 0.5720907058382266),\n",
       "  'joint': (0.4898687941076474, 0.452496994226821, 0.5166067070866626)}}"
      ]
     },
     "execution_count": 471,
     "metadata": {},
     "output_type": "execute_result"
    }
   ],
   "source": [
    "DATASET = 'Weather'\n",
    "synthetic = load_results(DATASET)\n",
    "bootstrap_ci(synthetic, alpha=0.95)"
   ]
  },
  {
   "cell_type": "code",
   "execution_count": 319,
   "metadata": {},
   "outputs": [
    {
     "data": {
      "text/plain": [
       "{0.11: {'single': (0.7755, 0.7073786625285795, 0.8059230710394255),\n",
       "  'joint': (0.8563000000000003, 0.8114525198508614, 0.8777)},\n",
       " 0.19: {'single': (0.645, 0.6233526381692607, 0.6628198198384634),\n",
       "  'joint': (0.6422142857142856, 0.6216692958482938, 0.658013152086608)},\n",
       " 0.25: {'single': (0.5125555555555555, 0.4790360246764663, 0.5308493432177589),\n",
       "  'joint': (0.41866666666666674, 0.3932645556406861, 0.43360698586717583)},\n",
       " 0.34: {'single': (0.5408999999999999, 0.5299578348648432, 0.5569701452132322),\n",
       "  'joint': (0.39640000000000003, 0.38415419842635384, 0.40805)},\n",
       " 0.39: {'single': (0.46779999999999994,\n",
       "   0.4373303438442137,\n",
       "   0.4850619382617066),\n",
       "  'joint': (0.31920000000000004, 0.3065931792876921, 0.33184)}}"
      ]
     },
     "execution_count": 319,
     "metadata": {},
     "output_type": "execute_result"
    }
   ],
   "source": [
    "DATASET = 'EMNIST'\n",
    "synthetic = load_results(DATASET)\n",
    "bootstrap_ci(synthetic, alpha=0.95)"
   ]
  },
  {
   "cell_type": "code",
   "execution_count": 379,
   "metadata": {},
   "outputs": [
    {
     "data": {
      "text/plain": [
       "{0.08: {'single': (0.8710000000000001, 0.865, 0.8789999999999999),\n",
       "  'joint': (0.9270000000000002, 0.9189999999999999, 0.9324999999999999)},\n",
       " 0.21: {'single': (0.8240000000000001, 0.804, 0.841),\n",
       "  'joint': (0.8404999999999999, 0.807, 0.8764845547191028)},\n",
       " 0.3: {'single': (0.8164999999999999, 0.7805, 0.8385),\n",
       "  'joint': (0.7555, 0.7253408953767821, 0.7961593315548272)},\n",
       " 0.38: {'single': (0.7855000000000001, 0.78, 0.7915),\n",
       "  'joint': (0.6915, 0.6547992009881295, 0.7230000000000001)}}"
      ]
     },
     "execution_count": 379,
     "metadata": {},
     "output_type": "execute_result"
    }
   ],
   "source": [
    "DATASET = 'CIFAR'\n",
    "synthetic = load_results(DATASET)\n",
    "bootstrap_ci(synthetic, alpha=0.95)"
   ]
  },
  {
   "cell_type": "code",
   "execution_count": 473,
   "metadata": {},
   "outputs": [
    {
     "data": {
      "text/plain": [
       "{0.06: {'single': (0.23966234100661699,\n",
       "   0.23130650285174564,\n",
       "   0.24904072990779832),\n",
       "  'joint': (0.2654174380126687, 0.2497884122692507, 0.28243065782213067)},\n",
       " 0.15: {'single': (0.24055002870433434,\n",
       "   0.22352971103267227,\n",
       "   0.2550885199104699),\n",
       "  'joint': (0.2590353412846905, 0.24061650570800552, 0.27177352984187547)},\n",
       " 0.19: {'single': (0.24178100289137783,\n",
       "   0.22329856640790732,\n",
       "   0.2581743303155424),\n",
       "  'joint': (0.25428631501444976, 0.24060091082575935, 0.29429125394236205)},\n",
       " 0.25: {'single': (0.22095630265400215,\n",
       "   0.20445826776397785,\n",
       "   0.2479057241695071),\n",
       "  'joint': (0.22445646674680297, 0.20971312952680649, 0.25119065744064084)},\n",
       " 0.3: {'single': (0.2991867201426025,\n",
       "   0.28438057040998216,\n",
       "   0.32282568709049464),\n",
       "  'joint': (0.26370877896613193, 0.25059865605978826, 0.27290084837071066)}}"
      ]
     },
     "execution_count": 473,
     "metadata": {},
     "output_type": "execute_result"
    }
   ],
   "source": [
    "DATASET = 'ISIC'\n",
    "synthetic = load_results(DATASET)\n",
    "bootstrap_ci(synthetic, alpha=0.95)"
   ]
  }
 ],
 "metadata": {
  "kernelspec": {
   "display_name": "Python 3 (ipykernel)",
   "language": "python",
   "name": "python3"
  },
  "language_info": {
   "codemirror_mode": {
    "name": "ipython",
    "version": 3
   },
   "file_extension": ".py",
   "mimetype": "text/x-python",
   "name": "python",
   "nbconvert_exporter": "python",
   "pygments_lexer": "ipython3",
   "version": "3.10.10"
  },
  "orig_nbformat": 4,
  "vscode": {
   "interpreter": {
    "hash": "31f2aee4e71d21fbe5cf8b01ff0e069b9275f58929596ceb00d14d90e3e16cd6"
   }
  }
 },
 "nbformat": 4,
 "nbformat_minor": 2
}
