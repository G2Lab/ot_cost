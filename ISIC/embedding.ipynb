{
 "cells": [
  {
   "cell_type": "code",
   "execution_count": 26,
   "metadata": {},
   "outputs": [],
   "source": [
    "global ROOT_DIR\n",
    "ROOT_DIR = '/gpfs/commons/groups/gursoy_lab/aelhussein/ot_cost/otcost_fl_rebase'\n",
    "global DATA_DIR\n",
    "DATA_DIR = f'{ROOT_DIR}/data/ISIC'\n",
    "\n",
    "import sys\n",
    "import json\n",
    "import torch\n",
    "sys.path.append(f'{ROOT_DIR}/code/ISIC/')\n",
    "import torch.nn.functional as F\n",
    "import torch.nn as nn\n",
    "import dataset\n",
    "sys.path.append(f'{ROOT_DIR}/code/ISIC/efficientnet_ae')\n",
    "from torch.utils.data import DataLoader as dl\n",
    "from torch.optim.lr_scheduler import ExponentialLR\n",
    "import copy"
   ]
  },
  {
   "cell_type": "code",
   "execution_count": 2,
   "metadata": {},
   "outputs": [],
   "source": [
    "BATCH_SIZE = 1\n",
    "LR = 5e-2\n",
    "EPOCHS = 1000\n",
    "DEVICE = torch.device(\"cuda\" if torch.cuda.is_available() else \"cpu\")"
   ]
  },
  {
   "cell_type": "code",
   "execution_count": 3,
   "metadata": {},
   "outputs": [],
   "source": [
    "train_data = dataset.FedIsic2019(train=True, pooled = True, data_path=DATA_DIR)\n",
    "train_loader = dl(train_data, batch_size = BATCH_SIZE, shuffle = True)\n",
    "\n",
    "val_data = dataset.FedIsic2019(train=False, pooled = True, data_path=DATA_DIR)\n",
    "val_loader = dl(val_data, batch_size = BATCH_SIZE, shuffle = True)"
   ]
  },
  {
   "cell_type": "code",
   "execution_count": 10,
   "metadata": {},
   "outputs": [],
   "source": [
    "class Autoencoder(nn.Module):\n",
    "    def __init__(self, n_emb):\n",
    "        super(Autoencoder, self).__init__()\n",
    "        self.n_emb = n_emb\n",
    "\n",
    "        self.encoder = nn.Sequential(\n",
    "            nn.Conv2d(3, 16, 3, padding=1), nn.LeakyReLU(0.1), nn.BatchNorm2d(16),\n",
    "            nn.Conv2d(16, 32, 3, padding=1), nn.LeakyReLU(0.1), nn.BatchNorm2d(32),\n",
    "            nn.MaxPool2d(2, 2),  \n",
    "            nn.Conv2d(32, 64, 3, padding=1), nn.LeakyReLU(0.1), nn.BatchNorm2d(64),\n",
    "            nn.Conv2d(64, 128, 3, padding=1), nn.LeakyReLU(0.1), nn.BatchNorm2d(128),\n",
    "            nn.MaxPool2d(2, 2), \n",
    "            nn.Conv2d(128, 64, 3, padding=1), nn.LeakyReLU(0.1), nn.BatchNorm2d(64),\n",
    "            nn.Conv2d(64, 32, 3, padding=1), nn.LeakyReLU(0.1), nn.BatchNorm2d(32),\n",
    "            nn.Conv2d(32, 32, 3, padding=1), nn.LeakyReLU(0.1), nn.BatchNorm2d(32),\n",
    ")\n",
    "        \n",
    "        self.bottleneck = nn.Sequential(\n",
    "            nn.Linear(32 * 50 * 50, 32*25*25),\n",
    "            nn.ReLU(),\n",
    "            nn.Dropout(0.3),\n",
    "            nn.Linear(32*25*25, self.n_emb)\n",
    ")\n",
    "\n",
    "        self.expand = nn.Sequential(nn.Linear(self.n_emb, 32*50*50))\n",
    "\n",
    "        self.decoder = nn.Sequential(\n",
    "            nn.Conv2d(32, 32, 3, padding=1),        \n",
    "            nn.ReLU(),\n",
    "            nn.ConvTranspose2d(32, 16, 4, stride=2, padding=1), \n",
    "            nn.ReLU(),\n",
    "            nn.ConvTranspose2d(16, 16, 4, stride=2, padding=1), \n",
    "            nn.ReLU(),\n",
    "            nn.Conv2d(16, 3, 3, padding=1),    \n",
    "            nn.Sigmoid()\n",
    ")\n",
    "    \n",
    "\n",
    "    def forward(self, x, get_embedding=False):\n",
    "        x = self.encoder(x)\n",
    "        x_flat = x.view(x.size(0), -1)\n",
    "        embedding = self.bottleneck(x_flat)\n",
    "        if get_embedding:\n",
    "            return embedding\n",
    "        x = self.expand(embedding)\n",
    "        x = x.view(x.size(0), 32, 50, 50)\n",
    "        x = self.decoder(x)\n",
    "        return x\n"
   ]
  },
  {
   "cell_type": "code",
   "execution_count": 5,
   "metadata": {},
   "outputs": [],
   "source": [
    "X, y = next(iter(train_loader))\n",
    "X = X.transpose(2,1)"
   ]
  },
  {
   "cell_type": "code",
   "execution_count": 27,
   "metadata": {},
   "outputs": [],
   "source": [
    "criterion = nn.MSELoss()"
   ]
  },
  {
   "cell_type": "code",
   "execution_count": 12,
   "metadata": {},
   "outputs": [],
   "source": [
    "n_emb = 1000\n",
    "model = Autoencoder(n_emb)"
   ]
  },
  {
   "cell_type": "code",
   "execution_count": 13,
   "metadata": {},
   "outputs": [],
   "source": [
    "embedding_point = model(X)"
   ]
  },
  {
   "cell_type": "code",
   "execution_count": 28,
   "metadata": {},
   "outputs": [
    {
     "data": {
      "text/plain": [
       "tensor(0.0347, grad_fn=<MseLossBackward0>)"
      ]
     },
     "execution_count": 28,
     "metadata": {},
     "output_type": "execute_result"
    }
   ],
   "source": [
    "criterion(embedding_point, X)"
   ]
  }
 ],
 "metadata": {
  "kernelspec": {
   "display_name": "Python 3 (ipykernel)",
   "language": "python",
   "name": "python3"
  },
  "orig_nbformat": 4
 },
 "nbformat": 4,
 "nbformat_minor": 2
}
